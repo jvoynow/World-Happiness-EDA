{
 "cells": [
  {
   "cell_type": "code",
   "execution_count": 39,
   "metadata": {},
   "outputs": [],
   "source": [
    "import os\n",
    "\n",
    "import numpy as np\n",
    "import pandas as pd\n",
    "\n",
    "import statsmodels.api as sm\n",
    "from sklearn import linear_model\n",
    "\n",
    "import seaborn as sns\n",
    "import matplotlib.pyplot as plt"
   ]
  },
  {
   "cell_type": "markdown",
   "metadata": {},
   "source": [
    "# Here comes another dataset\n",
    "This is notebook NO.3, our final notebook in our world happiness series. Here we will introduce our third and final dataset and perform a similar statistical modeling to notebook NO.1"
   ]
  },
  {
   "cell_type": "code",
   "execution_count": 40,
   "metadata": {},
   "outputs": [],
   "source": [
    "# read in data, do initial cleaning/formatting\n",
    "\n",
    "geographic_df = pd.read_csv('3 World_countries_data\\countries_of_the_world.csv', index_col=\"Country\")\n",
    "geographic_df = geographic_df[[\"Region\", \"Area (sq. mi.)\"]]\n",
    "geographic_df.columns = ['Region', 'Area']\n",
    "geographic_df.index.name = \"Country\"\n",
    "\n",
    "# remove spacing on end of string\n",
    "\n",
    "geographic_df.Region = [geographic_df.Region[i].replace(\" \", \"\").lower() for i in range(len(geographic_df))]"
   ]
  },
  {
   "cell_type": "code",
   "execution_count": 41,
   "metadata": {},
   "outputs": [
    {
     "data": {
      "text/html": [
       "<div>\n",
       "<style scoped>\n",
       "    .dataframe tbody tr th:only-of-type {\n",
       "        vertical-align: middle;\n",
       "    }\n",
       "\n",
       "    .dataframe tbody tr th {\n",
       "        vertical-align: top;\n",
       "    }\n",
       "\n",
       "    .dataframe thead th {\n",
       "        text-align: right;\n",
       "    }\n",
       "</style>\n",
       "<table border=\"1\" class=\"dataframe\">\n",
       "  <thead>\n",
       "    <tr style=\"text-align: right;\">\n",
       "      <th></th>\n",
       "      <th>Region</th>\n",
       "      <th>Area</th>\n",
       "    </tr>\n",
       "    <tr>\n",
       "      <th>Country</th>\n",
       "      <th></th>\n",
       "      <th></th>\n",
       "    </tr>\n",
       "  </thead>\n",
       "  <tbody>\n",
       "    <tr>\n",
       "      <th>Afghanistan</th>\n",
       "      <td>asia(ex.neareast)</td>\n",
       "      <td>647500</td>\n",
       "    </tr>\n",
       "    <tr>\n",
       "      <th>Albania</th>\n",
       "      <td>easterneurope</td>\n",
       "      <td>28748</td>\n",
       "    </tr>\n",
       "    <tr>\n",
       "      <th>Algeria</th>\n",
       "      <td>northernafrica</td>\n",
       "      <td>2381740</td>\n",
       "    </tr>\n",
       "    <tr>\n",
       "      <th>American Samoa</th>\n",
       "      <td>oceania</td>\n",
       "      <td>199</td>\n",
       "    </tr>\n",
       "    <tr>\n",
       "      <th>Andorra</th>\n",
       "      <td>westerneurope</td>\n",
       "      <td>468</td>\n",
       "    </tr>\n",
       "    <tr>\n",
       "      <th>Angola</th>\n",
       "      <td>sub-saharanafrica</td>\n",
       "      <td>1246700</td>\n",
       "    </tr>\n",
       "    <tr>\n",
       "      <th>Anguilla</th>\n",
       "      <td>latinamer.&amp;carib</td>\n",
       "      <td>102</td>\n",
       "    </tr>\n",
       "    <tr>\n",
       "      <th>Antigua &amp; Barbuda</th>\n",
       "      <td>latinamer.&amp;carib</td>\n",
       "      <td>443</td>\n",
       "    </tr>\n",
       "    <tr>\n",
       "      <th>Argentina</th>\n",
       "      <td>latinamer.&amp;carib</td>\n",
       "      <td>2766890</td>\n",
       "    </tr>\n",
       "    <tr>\n",
       "      <th>Armenia</th>\n",
       "      <td>c.w.ofind.states</td>\n",
       "      <td>29800</td>\n",
       "    </tr>\n",
       "  </tbody>\n",
       "</table>\n",
       "</div>"
      ],
      "text/plain": [
       "                               Region     Area\n",
       "Country                                       \n",
       "Afghanistan         asia(ex.neareast)   647500\n",
       "Albania                 easterneurope    28748\n",
       "Algeria                northernafrica  2381740\n",
       "American Samoa                oceania      199\n",
       "Andorra                 westerneurope      468\n",
       "Angola              sub-saharanafrica  1246700\n",
       "Anguilla             latinamer.&carib      102\n",
       "Antigua & Barbuda    latinamer.&carib      443\n",
       "Argentina            latinamer.&carib  2766890\n",
       "Armenia              c.w.ofind.states    29800"
      ]
     },
     "execution_count": 41,
     "metadata": {},
     "output_type": "execute_result"
    }
   ],
   "source": [
    "# This is what our next dataset looks like\n",
    "\n",
    "geographic_df.head(10)"
   ]
  },
  {
   "cell_type": "markdown",
   "metadata": {},
   "source": [
    "# Our first two datasets\n",
    "If you have followed the previous two notebooks, you know that we worked hard to get some clean country data. We need to access these .csvs"
   ]
  },
  {
   "cell_type": "code",
   "execution_count": 42,
   "metadata": {},
   "outputs": [
    {
     "data": {
      "text/plain": [
       "['.ipynb',\n",
       " '.ipynb_checkpoints',\n",
       " '1 Baseline_happiness_analysis.ipynb',\n",
       " '1 World_happiness_report_data',\n",
       " '2 Cleaned_data',\n",
       " '2 Get_worldbank_data.ipynb',\n",
       " '2 Worldbank_data',\n",
       " '3 Putting_the_data_together.ipynb',\n",
       " '3 World_countries_data']"
      ]
     },
     "execution_count": 42,
     "metadata": {},
     "output_type": "execute_result"
    }
   ],
   "source": [
    "# What my current working directory looks like\n",
    "\n",
    "os.listdir()"
   ]
  },
  {
   "cell_type": "code",
   "execution_count": 43,
   "metadata": {},
   "outputs": [
    {
     "data": {
      "text/plain": [
       "['worldbank.csv', 'world_happiness.csv']"
      ]
     },
     "execution_count": 43,
     "metadata": {},
     "output_type": "execute_result"
    }
   ],
   "source": [
    "# What our desired folder contains\n",
    "\n",
    "os.listdir('2 Cleaned_data')"
   ]
  },
  {
   "cell_type": "code",
   "execution_count": 44,
   "metadata": {},
   "outputs": [],
   "source": [
    "# Lets access this data from our '2 Cleaned_data' folder\n",
    "\n",
    "original_df = pd.read_csv('2 Cleaned_data\\world_happiness.csv', index_col=\"Country_Year\")\n",
    "additional_df = pd.read_csv('2 Cleaned_data\\worldbank.csv', index_col=\"Country_Year\")"
   ]
  },
  {
   "cell_type": "code",
   "execution_count": 45,
   "metadata": {},
   "outputs": [
    {
     "name": "stderr",
     "output_type": "stream",
     "text": [
      "C:\\ProgramData\\Anaconda3\\lib\\site-packages\\ipykernel_launcher.py:3: FutureWarning: Sorting because non-concatenation axis is not aligned. A future version\n",
      "of pandas will change to not sort by default.\n",
      "\n",
      "To accept the future behavior, pass 'sort=False'.\n",
      "\n",
      "To retain the current behavior and silence the warning, pass 'sort=True'.\n",
      "\n",
      "  This is separate from the ipykernel package so we can avoid doing imports until\n"
     ]
    }
   ],
   "source": [
    "# and if we cleaned them correctly in the last notebook, then there should be no issues when we try to concatenate \n",
    "\n",
    "df = pd.concat([original_df, additional_df], axis=1)"
   ]
  },
  {
   "cell_type": "code",
   "execution_count": 46,
   "metadata": {},
   "outputs": [],
   "source": [
    "# Previously we added the year to our index of country in order to find matches from data 'a' to data 'b'\n",
    "# Since we no longer need these type of index, we will do so maintenance and remove it\n",
    "\n",
    "countries = []\n",
    "years = []\n",
    "\n",
    "for index in df.index:\n",
    "    index_split = index.split(\"_\")\n",
    "    countries.append(index_split[0])\n",
    "    years.append(index_split[1])"
   ]
  },
  {
   "cell_type": "code",
   "execution_count": 47,
   "metadata": {},
   "outputs": [],
   "source": [
    "# apply index changes and save year velues\n",
    "\n",
    "df.index = countries\n",
    "df[\"Year\"] = years"
   ]
  },
  {
   "cell_type": "markdown",
   "metadata": {},
   "source": [
    "# Clean the new data\n",
    "Naturally, our new data is != our old data. Thus there are many gaps and inconsistencies. Fixing the data is one of the most challenging yet rewarding sections of the data science pipeline. Lets dive in..."
   ]
  },
  {
   "cell_type": "code",
   "execution_count": 48,
   "metadata": {},
   "outputs": [],
   "source": [
    "# clean up new data's indexes\n",
    "\n",
    "new_indexes = []\n",
    "for i in range(len(geographic_df.index)):\n",
    "    if geographic_df.index[i][-1] == \" \":\n",
    "        new_indexes.append(geographic_df.index[i][:-1])\n",
    "    else:\n",
    "        new_indexes.append(geographic_df.index[i])\n",
    "\n",
    "geographic_df.index = new_indexes"
   ]
  },
  {
   "cell_type": "code",
   "execution_count": 49,
   "metadata": {},
   "outputs": [
    {
     "name": "stdout",
     "output_type": "stream",
     "text": [
      "Bosnia and Herzegovina\n",
      "Central African Republic\n",
      "Congo (Brazzaville)\n",
      "Congo (Kinshasa)\n",
      "Ivory Coast\n",
      "Montenegro\n",
      "Myanmar\n",
      "North Macedonia\n",
      "Palestinian Territories\n",
      "South Korea\n",
      "Trinidad and Tobago\n"
     ]
    }
   ],
   "source": [
    "# now we can check what countries exist in our original data but not our new data\n",
    "\n",
    "for country in np.unique(df.index):\n",
    "    if country not in geographic_df.index:\n",
    "        print(country)"
   ]
  },
  {
   "cell_type": "code",
   "execution_count": 50,
   "metadata": {},
   "outputs": [],
   "source": [
    "# We can do some searching online to fill in the gaps for our missing countries\n",
    "\n",
    "new_geographic_data = [\n",
    "    [\"Bosnia and Herzegovina\", \"easterneurope\", 19_767],\n",
    "    [\"Central African Republic\", \"sub-saharanafrica\", 240_535],\n",
    "    [\"Congo (Brazzaville)\", \"sub-saharanafrica\", 132_047],\n",
    "    [\"Congo (Kinshasa)\", \"sub-saharanafrica\", 905_400],\n",
    "    [\"Ivory Coast\", \"sub-saharanafrica\", 124_504],\n",
    "    [\"Montenegro\", \"easterneurope\", 5_333],\n",
    "    [\"Myanmar\", \"asia(ex.neareast)\", 261_227],\n",
    "    [\"North Macedonia\", \"easterneurope\", 9_928],\n",
    "    [\"Palestinian Territories\", \"neareast\", 2_402],\n",
    "    [\"South Korea\", \"asia(ex.neareast)\", 38_691],\n",
    "    [\"Trinidad and Tobago\", \"latinamer.&carib\", 1_981]\n",
    "                    ]"
   ]
  },
  {
   "cell_type": "code",
   "execution_count": 51,
   "metadata": {},
   "outputs": [],
   "source": [
    "# Lets hold this hand picked data to a new dataframe\n",
    "\n",
    "new_geographic_df = pd.DataFrame(new_geographic_data, columns=[\"Country\", \"Region\", \"Area\"])\n",
    "new_geographic_df.index = new_geographic_df['Country']\n",
    "new_geographic_df.drop(['Country'], axis=1, inplace=True)"
   ]
  },
  {
   "cell_type": "code",
   "execution_count": 52,
   "metadata": {},
   "outputs": [],
   "source": [
    "# we can then append this data to it's master df\n",
    "\n",
    "geographic_df = geographic_df.append(new_geographic_df)"
   ]
  },
  {
   "cell_type": "code",
   "execution_count": 53,
   "metadata": {},
   "outputs": [],
   "source": [
    "# Now lets check that no countries from our old df are misssing here\n",
    "\n",
    "for country in np.unique(df.index):\n",
    "    if country not in geographic_df.index:\n",
    "        print(country)"
   ]
  },
  {
   "cell_type": "code",
   "execution_count": 54,
   "metadata": {},
   "outputs": [],
   "source": [
    "# And if there are countries in our new df that are not represented in our old df, we remove them\n",
    "\n",
    "for country in geographic_df.index:\n",
    "    if country not in np.unique(df.index):\n",
    "        geographic_df.drop([country], axis=0, inplace=True)"
   ]
  },
  {
   "cell_type": "code",
   "execution_count": 55,
   "metadata": {},
   "outputs": [],
   "source": [
    "# Now we can finally add our regions and area to the original dataframe\n",
    "\n",
    "for country in geographic_df.index:\n",
    "    df.loc[country, \"Region\"] = geographic_df.loc[country, \"Region\"]\n",
    "    df.loc[country, \"Area\"] = geographic_df.loc[country, \"Area\"]"
   ]
  },
  {
   "cell_type": "code",
   "execution_count": 56,
   "metadata": {},
   "outputs": [],
   "source": [
    "# Next we will encode our categorical variables\n",
    "\n",
    "df = pd.get_dummies(df)"
   ]
  },
  {
   "cell_type": "code",
   "execution_count": 70,
   "metadata": {},
   "outputs": [
    {
     "data": {
      "text/plain": [
       "['Happiness',\n",
       " 'GDP',\n",
       " 'Family',\n",
       " 'Health',\n",
       " 'Freedom',\n",
       " 'Generosity',\n",
       " 'Trust_gov',\n",
       " 'GNI_per_cap',\n",
       " 'Labor_force',\n",
       " 'Life_expectancy',\n",
       " 'Population',\n",
       " 'Area',\n",
       " 'Year_2015',\n",
       " 'Year_2016',\n",
       " 'Year_2017',\n",
       " 'Year_2018',\n",
       " 'Region_asia(ex.neareast)',\n",
       " 'Region_baltics',\n",
       " 'Region_c.w.ofind.states',\n",
       " 'Region_easterneurope',\n",
       " 'Region_latinamer.&carib',\n",
       " 'Region_neareast',\n",
       " 'Region_northernafrica',\n",
       " 'Region_northernamerica',\n",
       " 'Region_oceania',\n",
       " 'Region_sub-saharanafrica',\n",
       " 'Region_westerneurope']"
      ]
     },
     "execution_count": 70,
     "metadata": {},
     "output_type": "execute_result"
    }
   ],
   "source": [
    "# here we can visualize what our new feature space looks like\n",
    "\n",
    "list(df.columns)"
   ]
  },
  {
   "cell_type": "markdown",
   "metadata": {},
   "source": [
    "# Our Final Model\n",
    "It is what we have all been waiting for: a model! This entire process has led up to this final point and now we get to see the results. It is important to note that we have gained many features since our last model. I wonder if this will help or hinder our predictability?"
   ]
  },
  {
   "cell_type": "code",
   "execution_count": 58,
   "metadata": {},
   "outputs": [],
   "source": [
    "# Before we model, we must seperate independent and dependent variables\n",
    "\n",
    "dependent_var = df[\"Happiness\"]\n",
    "independent_var = df.drop(\"Happiness\", axis=1)"
   ]
  },
  {
   "cell_type": "code",
   "execution_count": 59,
   "metadata": {},
   "outputs": [
    {
     "name": "stderr",
     "output_type": "stream",
     "text": [
      "C:\\ProgramData\\Anaconda3\\lib\\site-packages\\numpy\\core\\fromnumeric.py:2389: FutureWarning: Method .ptp is deprecated and will be removed in a future version. Use numpy.ptp instead.\n",
      "  return ptp(axis=axis, out=out, **kwargs)\n"
     ]
    }
   ],
   "source": [
    "# Next lets create our OLS statsmodel\n",
    "\n",
    "ind_var_const = sm.add_constant(independent_var)\n",
    "stats_model_obj = sm.OLS(dependent_var, ind_var_const)\n",
    "stats_model = stats_model_obj.fit()"
   ]
  },
  {
   "cell_type": "code",
   "execution_count": 67,
   "metadata": {},
   "outputs": [
    {
     "data": {
      "text/plain": [
       "const                       0.2675\n",
       "GDP                         0.2363\n",
       "Family                      0.2844\n",
       "Health                      0.2632\n",
       "Freedom                     0.1384\n",
       "Generosity                  0.0461\n",
       "Trust_gov                   0.0429\n",
       "GNI_per_cap                 0.0000\n",
       "Labor_force                -0.0000\n",
       "Life_expectancy            -0.0061\n",
       "Population                  0.0000\n",
       "Area                        0.0000\n",
       "Year_2015                   0.0554\n",
       "Year_2016                   0.0733\n",
       "Year_2017                   0.0709\n",
       "Year_2018                   0.0678\n",
       "Region_asia(ex.neareast)   -0.0363\n",
       "Region_baltics              0.0036\n",
       "Region_c.w.ofind.states     0.0044\n",
       "Region_easterneurope        0.0145\n",
       "Region_latinamer.&carib     0.1366\n",
       "Region_neareast             0.0082\n",
       "Region_northernafrica       0.0570\n",
       "Region_northernamerica      0.0350\n",
       "Region_oceania              0.0753\n",
       "Region_sub-saharanafrica   -0.0759\n",
       "Region_westerneurope        0.0450\n",
       "dtype: float64"
      ]
     },
     "execution_count": 67,
     "metadata": {},
     "output_type": "execute_result"
    }
   ],
   "source": [
    "# Here we can see our parameters\n",
    "\n",
    "stats_model.params.round(4)"
   ]
  },
  {
   "cell_type": "code",
   "execution_count": 78,
   "metadata": {},
   "outputs": [
    {
     "data": {
      "text/plain": [
       "Family                      0.2844\n",
       "const                       0.2675\n",
       "Health                      0.2632\n",
       "GDP                         0.2363\n",
       "Freedom                     0.1384\n",
       "Region_latinamer.&carib     0.1366\n",
       "Region_oceania              0.0753\n",
       "Year_2016                   0.0733\n",
       "Year_2017                   0.0709\n",
       "Year_2018                   0.0678\n",
       "Region_northernafrica       0.0570\n",
       "Year_2015                   0.0554\n",
       "Generosity                  0.0461\n",
       "Region_westerneurope        0.0450\n",
       "Trust_gov                   0.0429\n",
       "Region_northernamerica      0.0350\n",
       "Region_easterneurope        0.0145\n",
       "Region_neareast             0.0082\n",
       "Region_c.w.ofind.states     0.0044\n",
       "Region_baltics              0.0036\n",
       "GNI_per_cap                 0.0000\n",
       "Area                        0.0000\n",
       "Population                  0.0000\n",
       "Labor_force                -0.0000\n",
       "Life_expectancy            -0.0061\n",
       "Region_asia(ex.neareast)   -0.0363\n",
       "Region_sub-saharanafrica   -0.0759\n",
       "dtype: float64"
      ]
     },
     "execution_count": 78,
     "metadata": {},
     "output_type": "execute_result"
    }
   ],
   "source": [
    "# Here are the same parameters, this time sorted\n",
    "\n",
    "stats_model.params.sort_values(ascending=False).round(4)"
   ]
  },
  {
   "cell_type": "code",
   "execution_count": 61,
   "metadata": {},
   "outputs": [
    {
     "data": {
      "text/html": [
       "<table class=\"simpletable\">\n",
       "<caption>OLS Regression Results</caption>\n",
       "<tr>\n",
       "  <th>Dep. Variable:</th>        <td>Happiness</td>    <th>  R-squared:         </th> <td>   0.856</td> \n",
       "</tr>\n",
       "<tr>\n",
       "  <th>Model:</th>                   <td>OLS</td>       <th>  Adj. R-squared:    </th> <td>   0.850</td> \n",
       "</tr>\n",
       "<tr>\n",
       "  <th>Method:</th>             <td>Least Squares</td>  <th>  F-statistic:       </th> <td>   142.0</td> \n",
       "</tr>\n",
       "<tr>\n",
       "  <th>Date:</th>             <td>Mon, 10 Aug 2020</td> <th>  Prob (F-statistic):</th> <td>4.05e-223</td>\n",
       "</tr>\n",
       "<tr>\n",
       "  <th>Time:</th>                 <td>16:19:04</td>     <th>  Log-Likelihood:    </th> <td>  586.92</td> \n",
       "</tr>\n",
       "<tr>\n",
       "  <th>No. Observations:</th>      <td>   598</td>      <th>  AIC:               </th> <td>  -1124.</td> \n",
       "</tr>\n",
       "<tr>\n",
       "  <th>Df Residuals:</th>          <td>   573</td>      <th>  BIC:               </th> <td>  -1014.</td> \n",
       "</tr>\n",
       "<tr>\n",
       "  <th>Df Model:</th>              <td>    24</td>      <th>                     </th>     <td> </td>    \n",
       "</tr>\n",
       "<tr>\n",
       "  <th>Covariance Type:</th>      <td>nonrobust</td>    <th>                     </th>     <td> </td>    \n",
       "</tr>\n",
       "</table>\n",
       "<table class=\"simpletable\">\n",
       "<tr>\n",
       "              <td></td>                <th>coef</th>     <th>std err</th>      <th>t</th>      <th>P>|t|</th>  <th>[0.025</th>    <th>0.975]</th>  \n",
       "</tr>\n",
       "<tr>\n",
       "  <th>const</th>                    <td>    0.2675</td> <td>    0.119</td> <td>    2.257</td> <td> 0.024</td> <td>    0.035</td> <td>    0.500</td>\n",
       "</tr>\n",
       "<tr>\n",
       "  <th>GDP</th>                      <td>    0.2363</td> <td>    0.044</td> <td>    5.413</td> <td> 0.000</td> <td>    0.151</td> <td>    0.322</td>\n",
       "</tr>\n",
       "<tr>\n",
       "  <th>Family</th>                   <td>    0.2844</td> <td>    0.030</td> <td>    9.406</td> <td> 0.000</td> <td>    0.225</td> <td>    0.344</td>\n",
       "</tr>\n",
       "<tr>\n",
       "  <th>Health</th>                   <td>    0.2632</td> <td>    0.087</td> <td>    3.014</td> <td> 0.003</td> <td>    0.092</td> <td>    0.435</td>\n",
       "</tr>\n",
       "<tr>\n",
       "  <th>Freedom</th>                  <td>    0.1384</td> <td>    0.023</td> <td>    5.915</td> <td> 0.000</td> <td>    0.092</td> <td>    0.184</td>\n",
       "</tr>\n",
       "<tr>\n",
       "  <th>Generosity</th>               <td>    0.0461</td> <td>    0.026</td> <td>    1.745</td> <td> 0.082</td> <td>   -0.006</td> <td>    0.098</td>\n",
       "</tr>\n",
       "<tr>\n",
       "  <th>Trust_gov</th>                <td>    0.0429</td> <td>    0.027</td> <td>    1.580</td> <td> 0.115</td> <td>   -0.010</td> <td>    0.096</td>\n",
       "</tr>\n",
       "<tr>\n",
       "  <th>GNI_per_cap</th>              <td> 3.083e-06</td> <td> 5.37e-07</td> <td>    5.742</td> <td> 0.000</td> <td> 2.03e-06</td> <td> 4.14e-06</td>\n",
       "</tr>\n",
       "<tr>\n",
       "  <th>Labor_force</th>              <td>-3.503e-10</td> <td> 2.44e-10</td> <td>   -1.437</td> <td> 0.151</td> <td>-8.29e-10</td> <td> 1.28e-10</td>\n",
       "</tr>\n",
       "<tr>\n",
       "  <th>Life_expectancy</th>          <td>   -0.0061</td> <td>    0.003</td> <td>   -2.148</td> <td> 0.032</td> <td>   -0.012</td> <td>   -0.001</td>\n",
       "</tr>\n",
       "<tr>\n",
       "  <th>Population</th>               <td> 1.669e-10</td> <td> 1.14e-10</td> <td>    1.462</td> <td> 0.144</td> <td>-5.73e-11</td> <td> 3.91e-10</td>\n",
       "</tr>\n",
       "<tr>\n",
       "  <th>Area</th>                     <td> 5.898e-09</td> <td> 2.62e-09</td> <td>    2.253</td> <td> 0.025</td> <td> 7.55e-10</td> <td>  1.1e-08</td>\n",
       "</tr>\n",
       "<tr>\n",
       "  <th>Year_2015</th>                <td>    0.0554</td> <td>    0.027</td> <td>    2.027</td> <td> 0.043</td> <td>    0.002</td> <td>    0.109</td>\n",
       "</tr>\n",
       "<tr>\n",
       "  <th>Year_2016</th>                <td>    0.0733</td> <td>    0.031</td> <td>    2.371</td> <td> 0.018</td> <td>    0.013</td> <td>    0.134</td>\n",
       "</tr>\n",
       "<tr>\n",
       "  <th>Year_2017</th>                <td>    0.0709</td> <td>    0.031</td> <td>    2.274</td> <td> 0.023</td> <td>    0.010</td> <td>    0.132</td>\n",
       "</tr>\n",
       "<tr>\n",
       "  <th>Year_2018</th>                <td>    0.0678</td> <td>    0.032</td> <td>    2.099</td> <td> 0.036</td> <td>    0.004</td> <td>    0.131</td>\n",
       "</tr>\n",
       "<tr>\n",
       "  <th>Region_asia(ex.neareast)</th> <td>   -0.0363</td> <td>    0.016</td> <td>   -2.229</td> <td> 0.026</td> <td>   -0.068</td> <td>   -0.004</td>\n",
       "</tr>\n",
       "<tr>\n",
       "  <th>Region_baltics</th>           <td>    0.0036</td> <td>    0.028</td> <td>    0.127</td> <td> 0.899</td> <td>   -0.052</td> <td>    0.059</td>\n",
       "</tr>\n",
       "<tr>\n",
       "  <th>Region_c.w.ofind.states</th>  <td>    0.0044</td> <td>    0.016</td> <td>    0.269</td> <td> 0.788</td> <td>   -0.028</td> <td>    0.036</td>\n",
       "</tr>\n",
       "<tr>\n",
       "  <th>Region_easterneurope</th>     <td>    0.0145</td> <td>    0.018</td> <td>    0.787</td> <td> 0.432</td> <td>   -0.022</td> <td>    0.051</td>\n",
       "</tr>\n",
       "<tr>\n",
       "  <th>Region_latinamer.&carib</th>  <td>    0.1366</td> <td>    0.017</td> <td>    8.193</td> <td> 0.000</td> <td>    0.104</td> <td>    0.169</td>\n",
       "</tr>\n",
       "<tr>\n",
       "  <th>Region_neareast</th>          <td>    0.0082</td> <td>    0.018</td> <td>    0.459</td> <td> 0.647</td> <td>   -0.027</td> <td>    0.044</td>\n",
       "</tr>\n",
       "<tr>\n",
       "  <th>Region_northernafrica</th>    <td>    0.0570</td> <td>    0.025</td> <td>    2.268</td> <td> 0.024</td> <td>    0.008</td> <td>    0.106</td>\n",
       "</tr>\n",
       "<tr>\n",
       "  <th>Region_northernamerica</th>   <td>    0.0350</td> <td>    0.039</td> <td>    0.889</td> <td> 0.374</td> <td>   -0.042</td> <td>    0.112</td>\n",
       "</tr>\n",
       "<tr>\n",
       "  <th>Region_oceania</th>           <td>    0.0753</td> <td>    0.037</td> <td>    2.058</td> <td> 0.040</td> <td>    0.003</td> <td>    0.147</td>\n",
       "</tr>\n",
       "<tr>\n",
       "  <th>Region_sub-saharanafrica</th> <td>   -0.0759</td> <td>    0.017</td> <td>   -4.495</td> <td> 0.000</td> <td>   -0.109</td> <td>   -0.043</td>\n",
       "</tr>\n",
       "<tr>\n",
       "  <th>Region_westerneurope</th>     <td>    0.0450</td> <td>    0.021</td> <td>    2.176</td> <td> 0.030</td> <td>    0.004</td> <td>    0.086</td>\n",
       "</tr>\n",
       "</table>\n",
       "<table class=\"simpletable\">\n",
       "<tr>\n",
       "  <th>Omnibus:</th>       <td> 7.266</td> <th>  Durbin-Watson:     </th> <td>   0.750</td>\n",
       "</tr>\n",
       "<tr>\n",
       "  <th>Prob(Omnibus):</th> <td> 0.026</td> <th>  Jarque-Bera (JB):  </th> <td>   8.050</td>\n",
       "</tr>\n",
       "<tr>\n",
       "  <th>Skew:</th>          <td>-0.181</td> <th>  Prob(JB):          </th> <td>  0.0179</td>\n",
       "</tr>\n",
       "<tr>\n",
       "  <th>Kurtosis:</th>      <td> 3.438</td> <th>  Cond. No.          </th> <td>1.05e+16</td>\n",
       "</tr>\n",
       "</table><br/><br/>Warnings:<br/>[1] Standard Errors assume that the covariance matrix of the errors is correctly specified.<br/>[2] The smallest eigenvalue is 1.87e-13. This might indicate that there are<br/>strong multicollinearity problems or that the design matrix is singular."
      ],
      "text/plain": [
       "<class 'statsmodels.iolib.summary.Summary'>\n",
       "\"\"\"\n",
       "                            OLS Regression Results                            \n",
       "==============================================================================\n",
       "Dep. Variable:              Happiness   R-squared:                       0.856\n",
       "Model:                            OLS   Adj. R-squared:                  0.850\n",
       "Method:                 Least Squares   F-statistic:                     142.0\n",
       "Date:                Mon, 10 Aug 2020   Prob (F-statistic):          4.05e-223\n",
       "Time:                        16:19:04   Log-Likelihood:                 586.92\n",
       "No. Observations:                 598   AIC:                            -1124.\n",
       "Df Residuals:                     573   BIC:                            -1014.\n",
       "Df Model:                          24                                         \n",
       "Covariance Type:            nonrobust                                         \n",
       "============================================================================================\n",
       "                               coef    std err          t      P>|t|      [0.025      0.975]\n",
       "--------------------------------------------------------------------------------------------\n",
       "const                        0.2675      0.119      2.257      0.024       0.035       0.500\n",
       "GDP                          0.2363      0.044      5.413      0.000       0.151       0.322\n",
       "Family                       0.2844      0.030      9.406      0.000       0.225       0.344\n",
       "Health                       0.2632      0.087      3.014      0.003       0.092       0.435\n",
       "Freedom                      0.1384      0.023      5.915      0.000       0.092       0.184\n",
       "Generosity                   0.0461      0.026      1.745      0.082      -0.006       0.098\n",
       "Trust_gov                    0.0429      0.027      1.580      0.115      -0.010       0.096\n",
       "GNI_per_cap               3.083e-06   5.37e-07      5.742      0.000    2.03e-06    4.14e-06\n",
       "Labor_force              -3.503e-10   2.44e-10     -1.437      0.151   -8.29e-10    1.28e-10\n",
       "Life_expectancy             -0.0061      0.003     -2.148      0.032      -0.012      -0.001\n",
       "Population                1.669e-10   1.14e-10      1.462      0.144   -5.73e-11    3.91e-10\n",
       "Area                      5.898e-09   2.62e-09      2.253      0.025    7.55e-10     1.1e-08\n",
       "Year_2015                    0.0554      0.027      2.027      0.043       0.002       0.109\n",
       "Year_2016                    0.0733      0.031      2.371      0.018       0.013       0.134\n",
       "Year_2017                    0.0709      0.031      2.274      0.023       0.010       0.132\n",
       "Year_2018                    0.0678      0.032      2.099      0.036       0.004       0.131\n",
       "Region_asia(ex.neareast)    -0.0363      0.016     -2.229      0.026      -0.068      -0.004\n",
       "Region_baltics               0.0036      0.028      0.127      0.899      -0.052       0.059\n",
       "Region_c.w.ofind.states      0.0044      0.016      0.269      0.788      -0.028       0.036\n",
       "Region_easterneurope         0.0145      0.018      0.787      0.432      -0.022       0.051\n",
       "Region_latinamer.&carib      0.1366      0.017      8.193      0.000       0.104       0.169\n",
       "Region_neareast              0.0082      0.018      0.459      0.647      -0.027       0.044\n",
       "Region_northernafrica        0.0570      0.025      2.268      0.024       0.008       0.106\n",
       "Region_northernamerica       0.0350      0.039      0.889      0.374      -0.042       0.112\n",
       "Region_oceania               0.0753      0.037      2.058      0.040       0.003       0.147\n",
       "Region_sub-saharanafrica    -0.0759      0.017     -4.495      0.000      -0.109      -0.043\n",
       "Region_westerneurope         0.0450      0.021      2.176      0.030       0.004       0.086\n",
       "==============================================================================\n",
       "Omnibus:                        7.266   Durbin-Watson:                   0.750\n",
       "Prob(Omnibus):                  0.026   Jarque-Bera (JB):                8.050\n",
       "Skew:                          -0.181   Prob(JB):                       0.0179\n",
       "Kurtosis:                       3.438   Cond. No.                     1.05e+16\n",
       "==============================================================================\n",
       "\n",
       "Warnings:\n",
       "[1] Standard Errors assume that the covariance matrix of the errors is correctly specified.\n",
       "[2] The smallest eigenvalue is 1.87e-13. This might indicate that there are\n",
       "strong multicollinearity problems or that the design matrix is singular.\n",
       "\"\"\""
      ]
     },
     "execution_count": 61,
     "metadata": {},
     "output_type": "execute_result"
    }
   ],
   "source": [
    "# some summary statistics\n",
    "\n",
    "stats_model.summary()"
   ]
  },
  {
   "cell_type": "code",
   "execution_count": 92,
   "metadata": {},
   "outputs": [],
   "source": [
    "# Notice that some of our variables here do not pass as having statistical significance,\n",
    "# Lets access the features with small pvalues\n",
    "\n",
    "pvals = stats_model.pvalues[1:]\n",
    "significant_features = pvals[pvals <= 0.05].index"
   ]
  },
  {
   "cell_type": "code",
   "execution_count": 93,
   "metadata": {},
   "outputs": [],
   "source": [
    "# We can create a new df with the significant features\n",
    "\n",
    "independent_var = df[significant_features]"
   ]
  },
  {
   "cell_type": "code",
   "execution_count": 94,
   "metadata": {},
   "outputs": [
    {
     "name": "stderr",
     "output_type": "stream",
     "text": [
      "C:\\ProgramData\\Anaconda3\\lib\\site-packages\\numpy\\core\\fromnumeric.py:2389: FutureWarning: Method .ptp is deprecated and will be removed in a future version. Use numpy.ptp instead.\n",
      "  return ptp(axis=axis, out=out, **kwargs)\n"
     ]
    }
   ],
   "source": [
    "# Next lets create our OLS statsmodel\n",
    "\n",
    "ind_var_const = sm.add_constant(independent_var)\n",
    "stats_model_obj = sm.OLS(dependent_var, ind_var_const)\n",
    "stats_model = stats_model_obj.fit()"
   ]
  },
  {
   "cell_type": "code",
   "execution_count": 95,
   "metadata": {},
   "outputs": [
    {
     "data": {
      "text/plain": [
       "const                       0.2849\n",
       "Family                      0.2787\n",
       "Health                      0.2350\n",
       "GDP                         0.2118\n",
       "Freedom                     0.1572\n",
       "Region_latinamer.&carib     0.1252\n",
       "Region_oceania              0.0823\n",
       "Year_2016                   0.0787\n",
       "Year_2017                   0.0765\n",
       "Year_2018                   0.0696\n",
       "Year_2015                   0.0602\n",
       "Region_northernafrica       0.0477\n",
       "Region_westerneurope        0.0313\n",
       "GNI_per_cap                 0.0000\n",
       "Area                        0.0000\n",
       "Life_expectancy            -0.0057\n",
       "Region_asia(ex.neareast)   -0.0399\n",
       "Region_sub-saharanafrica   -0.0921\n",
       "dtype: float64"
      ]
     },
     "execution_count": 95,
     "metadata": {},
     "output_type": "execute_result"
    }
   ],
   "source": [
    "# Here are the new params in order\n",
    "\n",
    "stats_model.params.sort_values(ascending=False).round(4)"
   ]
  },
  {
   "cell_type": "code",
   "execution_count": 96,
   "metadata": {},
   "outputs": [
    {
     "data": {
      "text/html": [
       "<table class=\"simpletable\">\n",
       "<caption>OLS Regression Results</caption>\n",
       "<tr>\n",
       "  <th>Dep. Variable:</th>        <td>Happiness</td>    <th>  R-squared:         </th> <td>   0.854</td> \n",
       "</tr>\n",
       "<tr>\n",
       "  <th>Model:</th>                   <td>OLS</td>       <th>  Adj. R-squared:    </th> <td>   0.850</td> \n",
       "</tr>\n",
       "<tr>\n",
       "  <th>Method:</th>             <td>Least Squares</td>  <th>  F-statistic:       </th> <td>   212.3</td> \n",
       "</tr>\n",
       "<tr>\n",
       "  <th>Date:</th>             <td>Mon, 10 Aug 2020</td> <th>  Prob (F-statistic):</th> <td>2.57e-230</td>\n",
       "</tr>\n",
       "<tr>\n",
       "  <th>Time:</th>                 <td>16:33:54</td>     <th>  Log-Likelihood:    </th> <td>  582.53</td> \n",
       "</tr>\n",
       "<tr>\n",
       "  <th>No. Observations:</th>      <td>   598</td>      <th>  AIC:               </th> <td>  -1131.</td> \n",
       "</tr>\n",
       "<tr>\n",
       "  <th>Df Residuals:</th>          <td>   581</td>      <th>  BIC:               </th> <td>  -1056.</td> \n",
       "</tr>\n",
       "<tr>\n",
       "  <th>Df Model:</th>              <td>    16</td>      <th>                     </th>     <td> </td>    \n",
       "</tr>\n",
       "<tr>\n",
       "  <th>Covariance Type:</th>      <td>nonrobust</td>    <th>                     </th>     <td> </td>    \n",
       "</tr>\n",
       "</table>\n",
       "<table class=\"simpletable\">\n",
       "<tr>\n",
       "              <td></td>                <th>coef</th>     <th>std err</th>      <th>t</th>      <th>P>|t|</th>  <th>[0.025</th>    <th>0.975]</th>  \n",
       "</tr>\n",
       "<tr>\n",
       "  <th>const</th>                    <td>    0.2849</td> <td>    0.123</td> <td>    2.313</td> <td> 0.021</td> <td>    0.043</td> <td>    0.527</td>\n",
       "</tr>\n",
       "<tr>\n",
       "  <th>GDP</th>                      <td>    0.2118</td> <td>    0.041</td> <td>    5.201</td> <td> 0.000</td> <td>    0.132</td> <td>    0.292</td>\n",
       "</tr>\n",
       "<tr>\n",
       "  <th>Family</th>                   <td>    0.2787</td> <td>    0.029</td> <td>    9.598</td> <td> 0.000</td> <td>    0.222</td> <td>    0.336</td>\n",
       "</tr>\n",
       "<tr>\n",
       "  <th>Health</th>                   <td>    0.2350</td> <td>    0.084</td> <td>    2.782</td> <td> 0.006</td> <td>    0.069</td> <td>    0.401</td>\n",
       "</tr>\n",
       "<tr>\n",
       "  <th>Freedom</th>                  <td>    0.1572</td> <td>    0.021</td> <td>    7.362</td> <td> 0.000</td> <td>    0.115</td> <td>    0.199</td>\n",
       "</tr>\n",
       "<tr>\n",
       "  <th>GNI_per_cap</th>              <td> 3.788e-06</td> <td> 4.35e-07</td> <td>    8.704</td> <td> 0.000</td> <td> 2.93e-06</td> <td> 4.64e-06</td>\n",
       "</tr>\n",
       "<tr>\n",
       "  <th>Life_expectancy</th>          <td>   -0.0057</td> <td>    0.003</td> <td>   -2.072</td> <td> 0.039</td> <td>   -0.011</td> <td>   -0.000</td>\n",
       "</tr>\n",
       "<tr>\n",
       "  <th>Area</th>                     <td> 5.331e-09</td> <td> 1.87e-09</td> <td>    2.855</td> <td> 0.004</td> <td> 1.66e-09</td> <td>    9e-09</td>\n",
       "</tr>\n",
       "<tr>\n",
       "  <th>Year_2015</th>                <td>    0.0602</td> <td>    0.029</td> <td>    2.110</td> <td> 0.035</td> <td>    0.004</td> <td>    0.116</td>\n",
       "</tr>\n",
       "<tr>\n",
       "  <th>Year_2016</th>                <td>    0.0787</td> <td>    0.032</td> <td>    2.463</td> <td> 0.014</td> <td>    0.016</td> <td>    0.141</td>\n",
       "</tr>\n",
       "<tr>\n",
       "  <th>Year_2017</th>                <td>    0.0765</td> <td>    0.032</td> <td>    2.370</td> <td> 0.018</td> <td>    0.013</td> <td>    0.140</td>\n",
       "</tr>\n",
       "<tr>\n",
       "  <th>Year_2018</th>                <td>    0.0696</td> <td>    0.033</td> <td>    2.078</td> <td> 0.038</td> <td>    0.004</td> <td>    0.135</td>\n",
       "</tr>\n",
       "<tr>\n",
       "  <th>Region_asia(ex.neareast)</th> <td>   -0.0399</td> <td>    0.013</td> <td>   -3.019</td> <td> 0.003</td> <td>   -0.066</td> <td>   -0.014</td>\n",
       "</tr>\n",
       "<tr>\n",
       "  <th>Region_latinamer.&carib</th>  <td>    0.1252</td> <td>    0.013</td> <td>    9.417</td> <td> 0.000</td> <td>    0.099</td> <td>    0.151</td>\n",
       "</tr>\n",
       "<tr>\n",
       "  <th>Region_northernafrica</th>    <td>    0.0477</td> <td>    0.023</td> <td>    2.087</td> <td> 0.037</td> <td>    0.003</td> <td>    0.093</td>\n",
       "</tr>\n",
       "<tr>\n",
       "  <th>Region_oceania</th>           <td>    0.0823</td> <td>    0.036</td> <td>    2.290</td> <td> 0.022</td> <td>    0.012</td> <td>    0.153</td>\n",
       "</tr>\n",
       "<tr>\n",
       "  <th>Region_sub-saharanafrica</th> <td>   -0.0921</td> <td>    0.017</td> <td>   -5.283</td> <td> 0.000</td> <td>   -0.126</td> <td>   -0.058</td>\n",
       "</tr>\n",
       "<tr>\n",
       "  <th>Region_westerneurope</th>     <td>    0.0313</td> <td>    0.017</td> <td>    1.795</td> <td> 0.073</td> <td>   -0.003</td> <td>    0.066</td>\n",
       "</tr>\n",
       "</table>\n",
       "<table class=\"simpletable\">\n",
       "<tr>\n",
       "  <th>Omnibus:</th>       <td> 5.032</td> <th>  Durbin-Watson:     </th> <td>   0.734</td>\n",
       "</tr>\n",
       "<tr>\n",
       "  <th>Prob(Omnibus):</th> <td> 0.081</td> <th>  Jarque-Bera (JB):  </th> <td>   5.264</td>\n",
       "</tr>\n",
       "<tr>\n",
       "  <th>Skew:</th>          <td>-0.148</td> <th>  Prob(JB):          </th> <td>  0.0719</td>\n",
       "</tr>\n",
       "<tr>\n",
       "  <th>Kurtosis:</th>      <td> 3.351</td> <th>  Cond. No.          </th> <td>1.54e+22</td>\n",
       "</tr>\n",
       "</table><br/><br/>Warnings:<br/>[1] Standard Errors assume that the covariance matrix of the errors is correctly specified.<br/>[2] The smallest eigenvalue is 1.34e-29. This might indicate that there are<br/>strong multicollinearity problems or that the design matrix is singular."
      ],
      "text/plain": [
       "<class 'statsmodels.iolib.summary.Summary'>\n",
       "\"\"\"\n",
       "                            OLS Regression Results                            \n",
       "==============================================================================\n",
       "Dep. Variable:              Happiness   R-squared:                       0.854\n",
       "Model:                            OLS   Adj. R-squared:                  0.850\n",
       "Method:                 Least Squares   F-statistic:                     212.3\n",
       "Date:                Mon, 10 Aug 2020   Prob (F-statistic):          2.57e-230\n",
       "Time:                        16:33:54   Log-Likelihood:                 582.53\n",
       "No. Observations:                 598   AIC:                            -1131.\n",
       "Df Residuals:                     581   BIC:                            -1056.\n",
       "Df Model:                          16                                         \n",
       "Covariance Type:            nonrobust                                         \n",
       "============================================================================================\n",
       "                               coef    std err          t      P>|t|      [0.025      0.975]\n",
       "--------------------------------------------------------------------------------------------\n",
       "const                        0.2849      0.123      2.313      0.021       0.043       0.527\n",
       "GDP                          0.2118      0.041      5.201      0.000       0.132       0.292\n",
       "Family                       0.2787      0.029      9.598      0.000       0.222       0.336\n",
       "Health                       0.2350      0.084      2.782      0.006       0.069       0.401\n",
       "Freedom                      0.1572      0.021      7.362      0.000       0.115       0.199\n",
       "GNI_per_cap               3.788e-06   4.35e-07      8.704      0.000    2.93e-06    4.64e-06\n",
       "Life_expectancy             -0.0057      0.003     -2.072      0.039      -0.011      -0.000\n",
       "Area                      5.331e-09   1.87e-09      2.855      0.004    1.66e-09       9e-09\n",
       "Year_2015                    0.0602      0.029      2.110      0.035       0.004       0.116\n",
       "Year_2016                    0.0787      0.032      2.463      0.014       0.016       0.141\n",
       "Year_2017                    0.0765      0.032      2.370      0.018       0.013       0.140\n",
       "Year_2018                    0.0696      0.033      2.078      0.038       0.004       0.135\n",
       "Region_asia(ex.neareast)    -0.0399      0.013     -3.019      0.003      -0.066      -0.014\n",
       "Region_latinamer.&carib      0.1252      0.013      9.417      0.000       0.099       0.151\n",
       "Region_northernafrica        0.0477      0.023      2.087      0.037       0.003       0.093\n",
       "Region_oceania               0.0823      0.036      2.290      0.022       0.012       0.153\n",
       "Region_sub-saharanafrica    -0.0921      0.017     -5.283      0.000      -0.126      -0.058\n",
       "Region_westerneurope         0.0313      0.017      1.795      0.073      -0.003       0.066\n",
       "==============================================================================\n",
       "Omnibus:                        5.032   Durbin-Watson:                   0.734\n",
       "Prob(Omnibus):                  0.081   Jarque-Bera (JB):                5.264\n",
       "Skew:                          -0.148   Prob(JB):                       0.0719\n",
       "Kurtosis:                       3.351   Cond. No.                     1.54e+22\n",
       "==============================================================================\n",
       "\n",
       "Warnings:\n",
       "[1] Standard Errors assume that the covariance matrix of the errors is correctly specified.\n",
       "[2] The smallest eigenvalue is 1.34e-29. This might indicate that there are\n",
       "strong multicollinearity problems or that the design matrix is singular.\n",
       "\"\"\""
      ]
     },
     "execution_count": 96,
     "metadata": {},
     "output_type": "execute_result"
    }
   ],
   "source": [
    "# and our final statistical summary!\n",
    "\n",
    "stats_model.summary()"
   ]
  },
  {
   "cell_type": "code",
   "execution_count": null,
   "metadata": {},
   "outputs": [],
   "source": [
    "# And check it out, we have increased our R-squared from the original notebook by finding more data.\n",
    "# Lets acknowledge that our model is now much more complicated then before, and the addition of\n",
    "# these independent variables may not have been necessary. Although this may be true, the process of\n",
    "# finding, cleaning, and merging data is rigorous and treacherous, and an incredible exciting\\\n",
    "# learning experience.\n",
    "\n",
    "# If you have made it this far, Thank you :)\n",
    "# - Jamie Voynow"
   ]
  }
 ],
 "metadata": {
  "kernelspec": {
   "display_name": "Python 3",
   "language": "python",
   "name": "python3"
  },
  "language_info": {
   "codemirror_mode": {
    "name": "ipython",
    "version": 3
   },
   "file_extension": ".py",
   "mimetype": "text/x-python",
   "name": "python",
   "nbconvert_exporter": "python",
   "pygments_lexer": "ipython3",
   "version": "3.7.3"
  }
 },
 "nbformat": 4,
 "nbformat_minor": 2
}
