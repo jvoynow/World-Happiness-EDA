{
 "cells": [
  {
   "cell_type": "code",
   "execution_count": 696,
   "metadata": {},
   "outputs": [],
   "source": [
    "import os\n",
    "\n",
    "import numpy as np\n",
    "import pandas as pd\n",
    "\n",
    "import statsmodels.api as sm\n",
    "from sklearn import linear_model\n",
    "\n",
    "import seaborn as sns\n",
    "import matplotlib.pyplot as plt"
   ]
  },
  {
   "cell_type": "markdown",
   "metadata": {},
   "source": [
    "# Let's Build our Foundational Dataset\n",
    "Hello and welcome! Here are some key bullet points in understanding our data:\n",
    "1. We have six .csv files all containing varieties of the same data\n",
    "2. This data has been collected on a country by country basis\n",
    "3. Each .csv corresponds to the data from one particular year\n",
    "4. The features given are scores on some arbitrary scale\n",
    "5. Happiness score of a country is determined by these features\n",
    "6. Lets check it out!"
   ]
  },
  {
   "cell_type": "code",
   "execution_count": 697,
   "metadata": {},
   "outputs": [],
   "source": [
    "# our data consists of 6 .csv files\n",
    "# we store them as individual dataframes\n",
    "master_df = []\n",
    "for i in range(2015, 2020 + 1):\n",
    "    path = R'C:/Users/voyno/OneDrive/Desktop/Python_Projects/World_happiness/Happiness_docs/' + str(i) + '.csv'\n",
    "    master_df.append(pd.read_csv(path))"
   ]
  },
  {
   "cell_type": "code",
   "execution_count": 698,
   "metadata": {},
   "outputs": [
    {
     "name": "stdout",
     "output_type": "stream",
     "text": [
      "df 0 :\t 12 features\n",
      "df 1 :\t 13 features\n",
      "df 2 :\t 12 features\n",
      "df 3 :\t 9 features\n",
      "df 4 :\t 9 features\n",
      "df 5 :\t 20 features\n"
     ]
    }
   ],
   "source": [
    "# what does all this data look like? Let's check out our feature space\n",
    "for i in range(len(master_df)):\n",
    "    print(\"df\",i,\":\\t\", len(master_df[i].columns), \"features\")"
   ]
  },
  {
   "cell_type": "code",
   "execution_count": 699,
   "metadata": {},
   "outputs": [
    {
     "name": "stdout",
     "output_type": "stream",
     "text": [
      "Year 2015\n",
      ".......................................................................................................................................\n",
      "['Country', 'Region', 'Happiness Rank', 'Happiness Score', 'Standard Error', 'Economy (GDP per Capita)', 'Family', 'Health (Life Expectancy)', 'Freedom', 'Trust (Government Corruption)', 'Generosity', 'Dystopia Residual'] \n",
      "\n",
      "\n",
      "Year 2016\n",
      ".......................................................................................................................................\n",
      "['Country', 'Region', 'Happiness Rank', 'Happiness Score', 'Lower Confidence Interval', 'Upper Confidence Interval', 'Economy (GDP per Capita)', 'Family', 'Health (Life Expectancy)', 'Freedom', 'Trust (Government Corruption)', 'Generosity', 'Dystopia Residual'] \n",
      "\n",
      "\n",
      "Year 2017\n",
      ".......................................................................................................................................\n",
      "['Country', 'Happiness.Rank', 'Happiness.Score', 'Whisker.high', 'Whisker.low', 'Economy..GDP.per.Capita.', 'Family', 'Health..Life.Expectancy.', 'Freedom', 'Generosity', 'Trust..Government.Corruption.', 'Dystopia.Residual'] \n",
      "\n",
      "\n",
      "Year 2018\n",
      ".......................................................................................................................................\n",
      "['Overall rank', 'Country or region', 'Score', 'GDP per capita', 'Social support', 'Healthy life expectancy', 'Freedom to make life choices', 'Generosity', 'Perceptions of corruption'] \n",
      "\n",
      "\n",
      "Year 2019\n",
      ".......................................................................................................................................\n",
      "['Overall rank', 'Country or region', 'Score', 'GDP per capita', 'Social support', 'Healthy life expectancy', 'Freedom to make life choices', 'Generosity', 'Perceptions of corruption'] \n",
      "\n",
      "\n",
      "Year 2020\n",
      ".......................................................................................................................................\n",
      "['Country name', 'Regional indicator', 'Ladder score', 'Standard error of ladder score', 'upperwhisker', 'lowerwhisker', 'Logged GDP per capita', 'Social support', 'Healthy life expectancy', 'Freedom to make life choices', 'Generosity', 'Perceptions of corruption', 'Ladder score in Dystopia', 'Explained by: Log GDP per capita', 'Explained by: Social support', 'Explained by: Healthy life expectancy', 'Explained by: Freedom to make life choices', 'Explained by: Generosity', 'Explained by: Perceptions of corruption', 'Dystopia + residual'] \n",
      "\n",
      "\n"
     ]
    }
   ],
   "source": [
    "# Hmm these dfs have varying features, Lets take a closer look\n",
    "for i in range(len(master_df)):\n",
    "    local_features = [master_df[i].columns[j] for j in range(len(master_df[i].columns))]\n",
    "    \n",
    "    print(\"Year\", 2015+i)\n",
    "    print(\".\" * 135)\n",
    "    print(local_features, \"\\n\\n\")"
   ]
  },
  {
   "cell_type": "code",
   "execution_count": 700,
   "metadata": {},
   "outputs": [],
   "source": [
    "def normalize(data):\n",
    "    \"\"\"normalizes 1d array to be within range [0,1]\n",
    "    \"\"\"\n",
    "    return (data - np.min(data)) / (np.max(data) - np.min(data))"
   ]
  },
  {
   "cell_type": "code",
   "execution_count": 701,
   "metadata": {},
   "outputs": [],
   "source": [
    "# since our data is reported from multiple studies it is important that we \n",
    "# normalize our features so that our features are consistant across datasets\n",
    "for i in range(len(master_df)):\n",
    "    for col in master_df[i].columns:\n",
    "        if master_df[i][col].dtypes != \"object\":\n",
    "            master_df[i][col] = normalize(master_df[i][col])"
   ]
  },
  {
   "cell_type": "code",
   "execution_count": 702,
   "metadata": {},
   "outputs": [
    {
     "name": "stdout",
     "output_type": "stream",
     "text": [
      "0 ['Country' 'Region' 'Happiness Rank' 'Happiness Score']\n",
      "1 ['Country' 'Region' 'Happiness Rank' 'Happiness Score']\n",
      "2 ['Country' 'Happiness.Rank' 'Happiness.Score' 'Whisker.high']\n",
      "3 ['Overall rank' 'Country or region' 'Score' 'GDP per capita']\n",
      "4 ['Overall rank' 'Country or region' 'Score' 'GDP per capita']\n",
      "5 ['Country name' 'Regional indicator' 'Ladder score'\n",
      " 'Standard error of ladder score']\n"
     ]
    }
   ],
   "source": [
    "# We want to match up the features for all of our dfs\n",
    "# here are the first four features for each\n",
    "for i in range(len(master_df)):\n",
    "    print(i, master_df[i].columns[0:4].values)"
   ]
  },
  {
   "cell_type": "code",
   "execution_count": 703,
   "metadata": {},
   "outputs": [],
   "source": [
    "# Country seems to be the first common feature for our datasets\n",
    "# This feature will be used as our lookup index later on\n",
    "# We can start by rearranging df[3, 4] to get this feature upfront\n",
    "\n",
    "master_df[3] = master_df[3][['Country or region','Overall rank', 'Score', 'GDP per capita',\n",
    "                           'Social support', 'Healthy life expectancy',\n",
    "                           'Freedom to make life choices', 'Generosity',\n",
    "                           'Perceptions of corruption']]\n",
    "\n",
    "master_df[4] = master_df[4][['Country or region', 'Overall rank', 'Score', 'GDP per capita',\n",
    "                           'Social support', 'Healthy life expectancy',\n",
    "                           'Freedom to make life choices', 'Generosity',\n",
    "                           'Perceptions of corruption']]"
   ]
  },
  {
   "cell_type": "code",
   "execution_count": 704,
   "metadata": {},
   "outputs": [],
   "source": [
    "# next we can rename df[3, 4, 5] to 'country'\n",
    "master_df[3].rename(columns={'Country or region': 'Country'}, inplace=True)\n",
    "master_df[4].rename(columns={'Country or region': 'Country'}, inplace=True)\n",
    "master_df[5].rename(columns={'Country name': 'Country'}, inplace=True)"
   ]
  },
  {
   "cell_type": "code",
   "execution_count": 705,
   "metadata": {},
   "outputs": [
    {
     "name": "stdout",
     "output_type": "stream",
     "text": [
      "0 ['Country' 'Region' 'Happiness Rank']\n",
      "1 ['Country' 'Region' 'Happiness Rank']\n",
      "2 ['Country' 'Happiness.Rank' 'Happiness.Score']\n",
      "3 ['Country' 'Overall rank' 'Score']\n",
      "4 ['Country' 'Overall rank' 'Score']\n",
      "5 ['Country' 'Regional indicator' 'Ladder score']\n"
     ]
    }
   ],
   "source": [
    "# now lets make sure this fisrt feature matches up for all dfs\n",
    "for i in range(len(master_df)):\n",
    "    print(i, master_df[i].columns[0:3].values)"
   ]
  },
  {
   "cell_type": "code",
   "execution_count": 706,
   "metadata": {},
   "outputs": [],
   "source": [
    "# Our next common feature is happiness\n",
    "# This happiness value is a score and will eventually be our dependent variable\n",
    "happiness_feature = \"Happiness\""
   ]
  },
  {
   "cell_type": "code",
   "execution_count": 707,
   "metadata": {},
   "outputs": [],
   "source": [
    "master_df[0].drop(['Region', 'Happiness Rank'], axis=1, inplace=True)\n",
    "master_df[0].rename(columns={'Happiness Score': happiness_feature}, inplace=True)"
   ]
  },
  {
   "cell_type": "code",
   "execution_count": 708,
   "metadata": {},
   "outputs": [],
   "source": [
    "master_df[1].drop(['Region', 'Happiness Rank'], axis=1, inplace=True)\n",
    "master_df[1].rename(columns={'Happiness Score': happiness_feature}, inplace=True)"
   ]
  },
  {
   "cell_type": "code",
   "execution_count": 709,
   "metadata": {},
   "outputs": [],
   "source": [
    "master_df[2].drop(['Happiness.Rank'], axis=1, inplace=True)\n",
    "master_df[2].rename(columns={'Happiness.Score': happiness_feature}, inplace=True)"
   ]
  },
  {
   "cell_type": "code",
   "execution_count": 710,
   "metadata": {},
   "outputs": [],
   "source": [
    "master_df[3].drop(['Overall rank'], axis=1, inplace=True)\n",
    "master_df[3].rename(columns={'Score': happiness_feature}, inplace=True)"
   ]
  },
  {
   "cell_type": "code",
   "execution_count": 711,
   "metadata": {},
   "outputs": [],
   "source": [
    "master_df[4].drop(['Overall rank'], axis=1, inplace=True)\n",
    "master_df[4].rename(columns={'Score': happiness_feature}, inplace=True)"
   ]
  },
  {
   "cell_type": "code",
   "execution_count": 712,
   "metadata": {},
   "outputs": [],
   "source": [
    "master_df[5].drop(['Regional indicator'], axis=1, inplace=True)\n",
    "master_df[5].rename(columns={'Ladder score': happiness_feature}, inplace=True)"
   ]
  },
  {
   "cell_type": "code",
   "execution_count": 713,
   "metadata": {},
   "outputs": [
    {
     "name": "stdout",
     "output_type": "stream",
     "text": [
      "0 ['Country' 'Happiness' 'Standard Error']\n",
      "1 ['Country' 'Happiness' 'Lower Confidence Interval']\n",
      "2 ['Country' 'Happiness' 'Whisker.high']\n",
      "3 ['Country' 'Happiness' 'GDP per capita']\n",
      "4 ['Country' 'Happiness' 'GDP per capita']\n",
      "5 ['Country' 'Happiness' 'Standard error of ladder score']\n"
     ]
    }
   ],
   "source": [
    "# How do our first few features across our dfs look now?\n",
    "for i in range(len(master_df)):\n",
    "    print(i, master_df[i].columns[0:3].values)"
   ]
  },
  {
   "cell_type": "code",
   "execution_count": 714,
   "metadata": {},
   "outputs": [
    {
     "data": {
      "image/png": "[encoded data removed]",
      "text/plain": [
       "<Figure size 432x288 with 6 Axes>"
      ]
     },
     "metadata": {
      "needs_background": "light"
     },
     "output_type": "display_data"
    }
   ],
   "source": [
    "# We can check that this Happiness feature is the same on all of\n",
    "# our datasets by comparing the distribution of each\n",
    "fig, axs = plt.subplots(3,2, sharex=True, sharey=True)\n",
    "fig.suptitle('Distribution of values for \\'Happiness Score\\' feature')\n",
    "for i in range(6):\n",
    "    axs[i % 3, i % 2].hist(master_df[i][\"Happiness\"], color='r')"
   ]
  },
  {
   "cell_type": "code",
   "execution_count": 715,
   "metadata": {},
   "outputs": [],
   "source": [
    "# Happiness checks out.\n",
    "# Next we will look at our third common feature: GDP\n",
    "GDP_feature = \"GDP\""
   ]
  },
  {
   "cell_type": "code",
   "execution_count": 716,
   "metadata": {},
   "outputs": [],
   "source": [
    "master_df[0].drop(['Standard Error'], axis=1, inplace=True)\n",
    "master_df[0].rename(columns={'Economy (GDP per Capita)': GDP_feature}, inplace=True)"
   ]
  },
  {
   "cell_type": "code",
   "execution_count": 717,
   "metadata": {},
   "outputs": [],
   "source": [
    "master_df[1].drop(['Lower Confidence Interval', 'Upper Confidence Interval'],  axis=1, inplace=True)\n",
    "master_df[1].rename(columns={'Economy (GDP per Capita)': GDP_feature}, inplace=True)"
   ]
  },
  {
   "cell_type": "code",
   "execution_count": 718,
   "metadata": {},
   "outputs": [],
   "source": [
    "master_df[2].drop(['Whisker.high', 'Whisker.low'], axis=1, inplace=True)\n",
    "master_df[2].rename(columns={'Economy..GDP.per.Capita.': GDP_feature}, inplace=True)"
   ]
  },
  {
   "cell_type": "code",
   "execution_count": 719,
   "metadata": {},
   "outputs": [],
   "source": [
    "master_df[3].rename(columns={'GDP per capita': GDP_feature}, inplace=True)"
   ]
  },
  {
   "cell_type": "code",
   "execution_count": 720,
   "metadata": {},
   "outputs": [],
   "source": [
    "master_df[4].rename(columns={'GDP per capita': GDP_feature}, inplace=True)"
   ]
  },
  {
   "cell_type": "code",
   "execution_count": 721,
   "metadata": {},
   "outputs": [],
   "source": [
    "master_df[5].drop(['Standard error of ladder score','upperwhisker', 'lowerwhisker'], axis=1, inplace=True)\n",
    "master_df[5].rename(columns={'Logged GDP per capita': GDP_feature}, inplace=True)"
   ]
  },
  {
   "cell_type": "code",
   "execution_count": 722,
   "metadata": {},
   "outputs": [
    {
     "data": {
      "image/png": "[encoded data removed]",
      "text/plain": [
       "<Figure size 432x288 with 6 Axes>"
      ]
     },
     "metadata": {
      "needs_background": "light"
     },
     "output_type": "display_data"
    }
   ],
   "source": [
    "# Again, just to be careful, lets make sure that this GDP score\n",
    "# is identically distributed for all datasets in use\n",
    "fig, axs = plt.subplots(3,2, sharex=True, sharey=True)\n",
    "fig.suptitle('Distribution of values for \\'GDP\\' feature')\n",
    "for i in range(6):\n",
    "    axs[i % 3, i % 2].hist(master_df[i][\"GDP\"], color='r')"
   ]
  },
  {
   "cell_type": "code",
   "execution_count": 723,
   "metadata": {},
   "outputs": [
    {
     "name": "stdout",
     "output_type": "stream",
     "text": [
      "0 ['Country' 'Happiness' 'GDP']\n",
      "1 ['Country' 'Happiness' 'GDP']\n",
      "2 ['Country' 'Happiness' 'GDP']\n",
      "3 ['Country' 'Happiness' 'GDP']\n",
      "4 ['Country' 'Happiness' 'GDP']\n",
      "5 ['Country' 'Happiness' 'GDP']\n"
     ]
    }
   ],
   "source": [
    "# Now our first few features are all matched up throughout our dfs\n",
    "for i in range(len(master_df)):\n",
    "    print(i, master_df[i].columns[0:3].values)"
   ]
  },
  {
   "cell_type": "code",
   "execution_count": 724,
   "metadata": {},
   "outputs": [
    {
     "name": "stdout",
     "output_type": "stream",
     "text": [
      "0 ['Family' 'Health (Life Expectancy)' 'Freedom']\n",
      "1 ['Family' 'Health (Life Expectancy)' 'Freedom']\n",
      "2 ['Family' 'Health..Life.Expectancy.' 'Freedom']\n",
      "3 ['Social support' 'Healthy life expectancy' 'Freedom to make life choices']\n",
      "4 ['Social support' 'Healthy life expectancy' 'Freedom to make life choices']\n",
      "5 ['Social support' 'Healthy life expectancy' 'Freedom to make life choices']\n"
     ]
    }
   ],
   "source": [
    "# The next set of features:\n",
    "for i in range(len(master_df)):\n",
    "    print(i, master_df[i].columns[3:6].values)"
   ]
  },
  {
   "cell_type": "code",
   "execution_count": 773,
   "metadata": {},
   "outputs": [
    {
     "name": "stdout",
     "output_type": "stream",
     "text": [
      "\n"
     ]
    }
   ],
   "source": [
    "\"\"\"It seems that all of our datasets of these two features 'Family'\n",
    "and 'Social support' up next. These features sound like they may\n",
    "have the same underlying distribution. In order to verify this\n",
    "hypothesis we will plot their distributions below.\n",
    "\n",
    "Disclaimer: I am aware that their are statistical tests to prove \n",
    "such equality/inequality. I am still building on my statistical \n",
    "toolbelt and I do not feel comfortable with such tools yet. I do\n",
    "not want to use a stats tool that I do not fully understand, and\n",
    "so I chose a more simple and naive approach. Please feel free to \n",
    "give me feedback on this thought :-)\n",
    "\"\"\""
   ]
  },
  {
   "cell_type": "code",
   "execution_count": 726,
   "metadata": {},
   "outputs": [
    {
     "data": {
      "image/png": "[encoded data removed]",
      "text/plain": [
       "<Figure size 432x288 with 3 Axes>"
      ]
     },
     "metadata": {
      "needs_background": "light"
     },
     "output_type": "display_data"
    }
   ],
   "source": [
    "# first lets grab dfs[0, 1, 2] and analyze whats going on with \n",
    "# this data and more specifically the 'Family' feature\n",
    "fig, axs = plt.subplots(3, sharex=True, sharey=True)\n",
    "fig.suptitle('Distribution of values for \\'Family\\' feature')\n",
    "\n",
    "for i in range(3):\n",
    "    axs[i].hist(master_df[i][\"Family\"], color='r')"
   ]
  },
  {
   "cell_type": "code",
   "execution_count": 727,
   "metadata": {},
   "outputs": [
    {
     "data": {
      "image/png": "[encoded data removed]",
      "text/plain": [
       "<Figure size 432x288 with 3 Axes>"
      ]
     },
     "metadata": {
      "needs_background": "light"
     },
     "output_type": "display_data"
    }
   ],
   "source": [
    "# Next, we can analyze the 'Social support' feature and check to\n",
    "# see if its distribution matches that of the 'Family' feature\n",
    "fig, axs = plt.subplots(3, sharex=True, sharey=True)\n",
    "fig.suptitle('Distribution of values for \\'Social support\\' feature')\n",
    "\n",
    "for i in range(3,6):\n",
    "    axs[i - 3].hist(master_df[i][\"Social support\"], color='r')"
   ]
  },
  {
   "cell_type": "code",
   "execution_count": 728,
   "metadata": {},
   "outputs": [],
   "source": [
    "# I think it is reasonable to make the claim that these features\n",
    "# come from the same distribution.\n",
    "for i in range(3, 6):\n",
    "    master_df[i].rename(columns={\"Social support\": \"Family\"}, inplace=True)"
   ]
  },
  {
   "cell_type": "code",
   "execution_count": 729,
   "metadata": {},
   "outputs": [
    {
     "name": "stdout",
     "output_type": "stream",
     "text": [
      "0 ['Family' 'Health (Life Expectancy)' 'Freedom']\n",
      "1 ['Family' 'Health (Life Expectancy)' 'Freedom']\n",
      "2 ['Family' 'Health..Life.Expectancy.' 'Freedom']\n",
      "3 ['Family' 'Healthy life expectancy' 'Freedom to make life choices']\n",
      "4 ['Family' 'Healthy life expectancy' 'Freedom to make life choices']\n",
      "5 ['Family' 'Healthy life expectancy' 'Freedom to make life choices']\n"
     ]
    }
   ],
   "source": [
    "# our family feature is complete\n",
    "for i in range(len(master_df)):\n",
    "    print(i, master_df[i].columns[3:6].values)"
   ]
  },
  {
   "cell_type": "code",
   "execution_count": 730,
   "metadata": {},
   "outputs": [],
   "source": [
    "# The next feature, 'Health', is an easy one\n",
    "# All we have to do here is change the column name\n",
    "health_feature = \"Health\"\n",
    "master_df[0].rename(columns={\"Health (Life Expectancy)\": health_feature}, inplace=True)\n",
    "master_df[1].rename(columns={\"Health (Life Expectancy)\": health_feature}, inplace=True)\n",
    "master_df[2].rename(columns={\"Health..Life.Expectancy.\": health_feature}, inplace=True)\n",
    "master_df[3].rename(columns={\"Healthy life expectancy\": health_feature}, inplace=True)\n",
    "master_df[4].rename(columns={\"Healthy life expectancy\": health_feature}, inplace=True)\n",
    "master_df[5].rename(columns={\"Healthy life expectancy\": health_feature}, inplace=True)"
   ]
  },
  {
   "cell_type": "code",
   "execution_count": 731,
   "metadata": {},
   "outputs": [
    {
     "data": {
      "text/plain": [
       "' Our next feature seems to have two different names throuhgout\\nour datasets, \\'Freedom\\' and \\'Freedom to make life choices\\'. We will\\ndo the same \"test\" of equal distributions on this feature that we \\ndid on the \"Family\" feature.\\n'"
      ]
     },
     "execution_count": 731,
     "metadata": {},
     "output_type": "execute_result"
    }
   ],
   "source": [
    "\"\"\" Our next feature seems to have two different names throuhgout\n",
    "our datasets, 'Freedom' and 'Freedom to make life choices'. We will\n",
    "do the same \"test\" of equal distributions on this feature that we \n",
    "did on the \"Family\" feature.\n",
    "\"\"\""
   ]
  },
  {
   "cell_type": "code",
   "execution_count": 732,
   "metadata": {},
   "outputs": [
    {
     "data": {
      "image/png": "[encoded data removed]",
      "text/plain": [
       "<Figure size 432x288 with 3 Axes>"
      ]
     },
     "metadata": {
      "needs_background": "light"
     },
     "output_type": "display_data"
    }
   ],
   "source": [
    "# dfs[0, 1, 2] all have the 'Freedom' feature\n",
    "fig, axs = plt.subplots(3, sharex=True, sharey=True)\n",
    "fig.suptitle('Distribution of values for \\'Freedom\\' feature')\n",
    "\n",
    "for i in range(3):\n",
    "    axs[i].hist(master_df[i][\"Freedom\"], color='r')"
   ]
  },
  {
   "cell_type": "code",
   "execution_count": 733,
   "metadata": {},
   "outputs": [
    {
     "data": {
      "image/png": "[encoded data removed]",
      "text/plain": [
       "<Figure size 432x288 with 3 Axes>"
      ]
     },
     "metadata": {
      "needs_background": "light"
     },
     "output_type": "display_data"
    }
   ],
   "source": [
    "# dfs[3, 4, 5] all have the 'Freedom to make life choices' feature\n",
    "fig, axs = plt.subplots(3, sharex=True, sharey=True)\n",
    "fig.suptitle('Distribution of values for \\'Freedom to make life choices\\' feature')\n",
    "\n",
    "for i in range(3,6):\n",
    "    axs[i - 3].hist(master_df[i][\"Freedom to make life choices\"], color='r')"
   ]
  },
  {
   "cell_type": "code",
   "execution_count": 734,
   "metadata": {},
   "outputs": [],
   "source": [
    "# I will make the claim that these are identical.\n",
    "for i in range(3, 6):\n",
    "    master_df[i].rename(columns={\"Freedom to make life choices\": \"Freedom\"}, inplace=True)"
   ]
  },
  {
   "cell_type": "code",
   "execution_count": 735,
   "metadata": {},
   "outputs": [
    {
     "name": "stdout",
     "output_type": "stream",
     "text": [
      "0 ['Family' 'Health' 'Freedom']\n",
      "1 ['Family' 'Health' 'Freedom']\n",
      "2 ['Family' 'Health' 'Freedom']\n",
      "3 ['Family' 'Health' 'Freedom']\n",
      "4 ['Family' 'Health' 'Freedom']\n",
      "5 ['Family' 'Health' 'Freedom']\n"
     ]
    }
   ],
   "source": [
    "# Here is what our columns[3:6] for each df look like\n",
    "for i in range(len(master_df)):\n",
    "    print(i, master_df[i].columns[3:6].values)"
   ]
  },
  {
   "cell_type": "code",
   "execution_count": 736,
   "metadata": {},
   "outputs": [
    {
     "name": "stdout",
     "output_type": "stream",
     "text": [
      "0 ['Trust (Government Corruption)' 'Generosity']\n",
      "1 ['Trust (Government Corruption)' 'Generosity']\n",
      "2 ['Generosity' 'Trust..Government.Corruption.']\n",
      "3 ['Generosity' 'Perceptions of corruption']\n",
      "4 ['Generosity' 'Perceptions of corruption']\n",
      "5 ['Generosity' 'Perceptions of corruption']\n"
     ]
    }
   ],
   "source": [
    "# Now we have two more similar features\n",
    "for i in range(len(master_df)):\n",
    "    print(i, master_df[i].columns[6:8].values)"
   ]
  },
  {
   "cell_type": "code",
   "execution_count": 737,
   "metadata": {},
   "outputs": [],
   "source": [
    "# df[0, 1]'s columns need reordering to have a uniform Generosity feature\n",
    "master_df[0].columns = ['Country', 'Happiness', 'GDP', 'Family', 'Health', 'Freedom',\n",
    "       'Generosity', 'Trust (Government Corruption)', 'Dystopia Residual']\n",
    "\n",
    "master_df[1].columns = ['Country', 'Happiness', 'GDP', 'Family', 'Health', 'Freedom',\n",
    "       'Generosity', 'Trust (Government Corruption)', 'Dystopia Residual']"
   ]
  },
  {
   "cell_type": "code",
   "execution_count": 738,
   "metadata": {},
   "outputs": [
    {
     "data": {
      "image/png": "[encoded data removed]",
      "text/plain": [
       "<Figure size 432x288 with 6 Axes>"
      ]
     },
     "metadata": {
      "needs_background": "light"
     },
     "output_type": "display_data"
    }
   ],
   "source": [
    "# lets make sure that this 'Generosity' is identically distributed for all dfs\n",
    "fig, axs = plt.subplots(3,2, sharex=True, sharey=True)\n",
    "fig.suptitle('Distribution of values for \\'Generosity\\' feature')\n",
    "for i in range(6):\n",
    "    axs[i % 3, i % 2].hist(master_df[i][\"Generosity\"], color='r')"
   ]
  },
  {
   "cell_type": "code",
   "execution_count": 739,
   "metadata": {},
   "outputs": [
    {
     "name": "stdout",
     "output_type": "stream",
     "text": [
      "0 ['Generosity' 'Trust (Government Corruption)']\n",
      "1 ['Generosity' 'Trust (Government Corruption)']\n",
      "2 ['Generosity' 'Trust..Government.Corruption.']\n",
      "3 ['Generosity' 'Perceptions of corruption']\n",
      "4 ['Generosity' 'Perceptions of corruption']\n",
      "5 ['Generosity' 'Perceptions of corruption']\n"
     ]
    }
   ],
   "source": [
    "# That was easy!\n",
    "for i in range(len(master_df)):\n",
    "    print(i, master_df[i].columns[6:8].values)"
   ]
  },
  {
   "cell_type": "code",
   "execution_count": 740,
   "metadata": {},
   "outputs": [
    {
     "data": {
      "text/plain": [
       "(array([30., 52., 29., 16.,  3.,  8.,  9.,  1.,  4.,  3.]),\n",
       " array([0. , 0.1, 0.2, 0.3, 0.4, 0.5, 0.6, 0.7, 0.8, 0.9, 1. ]),\n",
       " <a list of 10 Patch objects>)"
      ]
     },
     "execution_count": 740,
     "metadata": {},
     "output_type": "execute_result"
    },
    {
     "data": {
      "image/png": "[encoded data removed]",
      "text/plain": [
       "<Figure size 432x288 with 3 Axes>"
      ]
     },
     "metadata": {
      "needs_background": "light"
     },
     "output_type": "display_data"
    }
   ],
   "source": [
    "# Again lets do the same thing for \"Trust Governement Corruption\"\n",
    "fig, axs = plt.subplots(3, sharex=True, sharey=True)\n",
    "fig.suptitle('Distribution of values for \\'Trust Government Corruption \\' feature')\n",
    "\n",
    "for i in range(2):\n",
    "    axs[i].hist(master_df[i][\"Trust (Government Corruption)\"], color='r')\n",
    "axs[2].hist(master_df[2][\"Trust..Government.Corruption.\"], color='r')"
   ]
  },
  {
   "cell_type": "code",
   "execution_count": 741,
   "metadata": {},
   "outputs": [
    {
     "name": "stderr",
     "output_type": "stream",
     "text": [
      "C:\\ProgramData\\Anaconda3\\lib\\site-packages\\numpy\\lib\\histograms.py:824: RuntimeWarning: invalid value encountered in greater_equal\n",
      "  keep = (tmp_a >= first_edge)\n",
      "C:\\ProgramData\\Anaconda3\\lib\\site-packages\\numpy\\lib\\histograms.py:825: RuntimeWarning: invalid value encountered in less_equal\n",
      "  keep &= (tmp_a <= last_edge)\n"
     ]
    },
    {
     "data": {
      "image/png": "[encoded data removed]",
      "text/plain": [
       "<Figure size 432x288 with 3 Axes>"
      ]
     },
     "metadata": {
      "needs_background": "light"
     },
     "output_type": "display_data"
    }
   ],
   "source": [
    "# VS the distribution of \"Perceptions of corruption\"\n",
    "master_df[5][\"Perceptions of corruption\"] = 1 - master_df[5][\"Perceptions of corruption\"]\n",
    "\n",
    "fig, axs = plt.subplots(3, sharex=True, sharey=True)\n",
    "fig.suptitle('Distribution of values for \\'Perceptions of corruption\\' feature')\n",
    "\n",
    "for i in range(3,6):\n",
    "    axs[i - 3].hist(master_df[i][\"Perceptions of corruption\"], color='r')"
   ]
  },
  {
   "cell_type": "code",
   "execution_count": 742,
   "metadata": {},
   "outputs": [],
   "source": [
    "# Looks good to me, Lets update this column name\n",
    "trust_gov_feature = \"Trust_gov\"\n",
    "master_df[0].rename(columns={\"Trust (Government Corruption)\": trust_gov_feature}, inplace=True)\n",
    "master_df[1].rename(columns={\"Trust (Government Corruption)\": trust_gov_feature}, inplace=True)\n",
    "master_df[2].rename(columns={\"Trust..Government.Corruption.\": trust_gov_feature}, inplace=True)\n",
    "master_df[3].rename(columns={\"Perceptions of corruption\": trust_gov_feature}, inplace=True)\n",
    "master_df[4].rename(columns={\"Perceptions of corruption\": trust_gov_feature}, inplace=True)\n",
    "master_df[5].rename(columns={\"Perceptions of corruption\": trust_gov_feature}, inplace=True)"
   ]
  },
  {
   "cell_type": "code",
   "execution_count": 743,
   "metadata": {},
   "outputs": [
    {
     "name": "stdout",
     "output_type": "stream",
     "text": [
      "0 ['Dystopia Residual']\n",
      "1 ['Dystopia Residual']\n",
      "2 ['Dystopia.Residual']\n",
      "3 []\n",
      "4 []\n",
      "5 ['Ladder score in Dystopia' 'Explained by: Log GDP per capita'\n",
      " 'Explained by: Social support' 'Explained by: Healthy life expectancy'\n",
      " 'Explained by: Freedom to make life choices' 'Explained by: Generosity'\n",
      " 'Explained by: Perceptions of corruption' 'Dystopia + residual']\n"
     ]
    }
   ],
   "source": [
    "# Lets see what kind of features we have next\n",
    "for i in range(len(master_df)):\n",
    "    print(i, master_df[i].columns[8:16].values)"
   ]
  },
  {
   "cell_type": "markdown",
   "metadata": {},
   "source": [
    "# Prepare the Master Data\n",
    "Our dataframes seem to match (for now). So next we will be putting all this data together. There are a few key practices and measure that need to be taken to ensure our data is of good quality. "
   ]
  },
  {
   "cell_type": "code",
   "execution_count": 744,
   "metadata": {},
   "outputs": [],
   "source": [
    "# Uh oh! it looks like we have hit the end of our features for two of our dfs\n",
    "# Since we ant uniform features throughout our data, we can only use as many\n",
    "# features as our smallest featurespace gives us\n",
    "\n",
    "# Lets drop all features in our data except for the eight features included\n",
    "# in all of our dfs (outlined above)\n",
    "master_features = ['Country', 'Happiness', 'GDP', 'Family', 'Health', 'Freedom', 'Generosity', 'Trust_gov']\n",
    "for i in range(len(master_df)):\n",
    "    for col in master_df[i].columns:\n",
    "        if col not in master_features:\n",
    "            master_df[i].drop(col, axis=1, inplace=True)"
   ]
  },
  {
   "cell_type": "code",
   "execution_count": 745,
   "metadata": {},
   "outputs": [
    {
     "name": "stdout",
     "output_type": "stream",
     "text": [
      "Year 2015\n",
      "....................................................................................................\n",
      "['Country', 'Happiness', 'GDP', 'Family', 'Health', 'Freedom', 'Generosity', 'Trust_gov'] \n",
      "\n",
      "\n",
      "Year 2016\n",
      "....................................................................................................\n",
      "['Country', 'Happiness', 'GDP', 'Family', 'Health', 'Freedom', 'Generosity', 'Trust_gov'] \n",
      "\n",
      "\n",
      "Year 2017\n",
      "....................................................................................................\n",
      "['Country', 'Happiness', 'GDP', 'Family', 'Health', 'Freedom', 'Generosity', 'Trust_gov'] \n",
      "\n",
      "\n",
      "Year 2018\n",
      "....................................................................................................\n",
      "['Country', 'Happiness', 'GDP', 'Family', 'Health', 'Freedom', 'Generosity', 'Trust_gov'] \n",
      "\n",
      "\n",
      "Year 2019\n",
      "....................................................................................................\n",
      "['Country', 'Happiness', 'GDP', 'Family', 'Health', 'Freedom', 'Generosity', 'Trust_gov'] \n",
      "\n",
      "\n",
      "Year 2020\n",
      "....................................................................................................\n",
      "['Country', 'Happiness', 'GDP', 'Family', 'Health', 'Freedom', 'Generosity', 'Trust_gov'] \n",
      "\n",
      "\n"
     ]
    }
   ],
   "source": [
    "# Now lets see what our data's features look like\n",
    "for i in range(len(master_df)):\n",
    "    print(\"Year\", 2015+i)\n",
    "    print(\".\" * 100)\n",
    "    print([master_df[i].columns[j] for j in range(len(master_df[i].columns))], \"\\n\\n\")"
   ]
  },
  {
   "cell_type": "code",
   "execution_count": 772,
   "metadata": {},
   "outputs": [
    {
     "name": "stdout",
     "output_type": "stream",
     "text": [
      "\n"
     ]
    }
   ],
   "source": [
    "\"\"\"Awesome, our data has uniform features. Now that we are done with this basic\n",
    "feature engineering, what do we do next? So since our dfs are all split by year (ie \n",
    "df[0] if from 2015, df[1] is from 2016, etc.) lets add a year column. This will\n",
    "enable us to have a distrinction from row 'a' to row 'b' of any given country\n",
    "\"\"\""
   ]
  },
  {
   "cell_type": "code",
   "execution_count": 747,
   "metadata": {},
   "outputs": [],
   "source": [
    "# lets append the year\n",
    "for i in range(len(master_df)):\n",
    "    master_df[i]['Year'] = 2015 + i\n",
    "\n",
    "# Now we can merge the datasets\n",
    "# and set 'Country' as our index\n",
    "df = pd.concat(master_df)\n",
    "df.index = df['Country']\n",
    "df.drop(['Country'], axis=1, inplace=True)"
   ]
  },
  {
   "cell_type": "code",
   "execution_count": 748,
   "metadata": {},
   "outputs": [
    {
     "data": {
      "text/html": [
       "<div>\n",
       "<style scoped>\n",
       "    .dataframe tbody tr th:only-of-type {\n",
       "        vertical-align: middle;\n",
       "    }\n",
       "\n",
       "    .dataframe tbody tr th {\n",
       "        vertical-align: top;\n",
       "    }\n",
       "\n",
       "    .dataframe thead th {\n",
       "        text-align: right;\n",
       "    }\n",
       "</style>\n",
       "<table border=\"1\" class=\"dataframe\">\n",
       "  <thead>\n",
       "    <tr style=\"text-align: right;\">\n",
       "      <th></th>\n",
       "      <th>Happiness</th>\n",
       "      <th>GDP</th>\n",
       "      <th>Family</th>\n",
       "      <th>Health</th>\n",
       "      <th>Freedom</th>\n",
       "      <th>Generosity</th>\n",
       "      <th>Trust_gov</th>\n",
       "      <th>Year</th>\n",
       "    </tr>\n",
       "    <tr>\n",
       "      <th>Country</th>\n",
       "      <th></th>\n",
       "      <th></th>\n",
       "      <th></th>\n",
       "      <th></th>\n",
       "      <th></th>\n",
       "      <th></th>\n",
       "      <th></th>\n",
       "      <th></th>\n",
       "    </tr>\n",
       "  </thead>\n",
       "  <tbody>\n",
       "    <tr>\n",
       "      <th>Switzerland</th>\n",
       "      <td>1.000000</td>\n",
       "      <td>0.826132</td>\n",
       "      <td>0.962403</td>\n",
       "      <td>0.918244</td>\n",
       "      <td>0.993789</td>\n",
       "      <td>0.760595</td>\n",
       "      <td>0.372895</td>\n",
       "      <td>2015</td>\n",
       "    </tr>\n",
       "    <tr>\n",
       "      <th>Iceland</th>\n",
       "      <td>0.994524</td>\n",
       "      <td>0.770412</td>\n",
       "      <td>1.000000</td>\n",
       "      <td>0.924496</td>\n",
       "      <td>0.938841</td>\n",
       "      <td>0.256292</td>\n",
       "      <td>0.548198</td>\n",
       "      <td>2015</td>\n",
       "    </tr>\n",
       "    <tr>\n",
       "      <th>Denmark</th>\n",
       "      <td>0.987363</td>\n",
       "      <td>0.784113</td>\n",
       "      <td>0.970297</td>\n",
       "      <td>0.853099</td>\n",
       "      <td>0.969615</td>\n",
       "      <td>0.876175</td>\n",
       "      <td>0.428947</td>\n",
       "      <td>2015</td>\n",
       "    </tr>\n",
       "    <tr>\n",
       "      <th>Norway</th>\n",
       "      <td>0.986310</td>\n",
       "      <td>0.863099</td>\n",
       "      <td>0.949167</td>\n",
       "      <td>0.863409</td>\n",
       "      <td>1.000000</td>\n",
       "      <td>0.661394</td>\n",
       "      <td>0.435983</td>\n",
       "      <td>2015</td>\n",
       "    </tr>\n",
       "    <tr>\n",
       "      <th>Canada</th>\n",
       "      <td>0.966302</td>\n",
       "      <td>0.784592</td>\n",
       "      <td>0.943219</td>\n",
       "      <td>0.883326</td>\n",
       "      <td>0.945112</td>\n",
       "      <td>0.597144</td>\n",
       "      <td>0.575602</td>\n",
       "      <td>2015</td>\n",
       "    </tr>\n",
       "  </tbody>\n",
       "</table>\n",
       "</div>"
      ],
      "text/plain": [
       "             Happiness       GDP    Family    Health   Freedom  Generosity  \\\n",
       "Country                                                                      \n",
       "Switzerland   1.000000  0.826132  0.962403  0.918244  0.993789    0.760595   \n",
       "Iceland       0.994524  0.770412  1.000000  0.924496  0.938841    0.256292   \n",
       "Denmark       0.987363  0.784113  0.970297  0.853099  0.969615    0.876175   \n",
       "Norway        0.986310  0.863099  0.949167  0.863409  1.000000    0.661394   \n",
       "Canada        0.966302  0.784592  0.943219  0.883326  0.945112    0.597144   \n",
       "\n",
       "             Trust_gov  Year  \n",
       "Country                       \n",
       "Switzerland   0.372895  2015  \n",
       "Iceland       0.548198  2015  \n",
       "Denmark       0.428947  2015  \n",
       "Norway        0.435983  2015  \n",
       "Canada        0.575602  2015  "
      ]
     },
     "metadata": {},
     "output_type": "display_data"
    },
    {
     "data": {
      "text/html": [
       "<div>\n",
       "<style scoped>\n",
       "    .dataframe tbody tr th:only-of-type {\n",
       "        vertical-align: middle;\n",
       "    }\n",
       "\n",
       "    .dataframe tbody tr th {\n",
       "        vertical-align: top;\n",
       "    }\n",
       "\n",
       "    .dataframe thead th {\n",
       "        text-align: right;\n",
       "    }\n",
       "</style>\n",
       "<table border=\"1\" class=\"dataframe\">\n",
       "  <thead>\n",
       "    <tr style=\"text-align: right;\">\n",
       "      <th></th>\n",
       "      <th>Happiness</th>\n",
       "      <th>GDP</th>\n",
       "      <th>Family</th>\n",
       "      <th>Health</th>\n",
       "      <th>Freedom</th>\n",
       "      <th>Generosity</th>\n",
       "      <th>Trust_gov</th>\n",
       "      <th>Year</th>\n",
       "    </tr>\n",
       "    <tr>\n",
       "      <th>Country</th>\n",
       "      <th></th>\n",
       "      <th></th>\n",
       "      <th></th>\n",
       "      <th></th>\n",
       "      <th></th>\n",
       "      <th></th>\n",
       "      <th></th>\n",
       "      <th></th>\n",
       "    </tr>\n",
       "  </thead>\n",
       "  <tbody>\n",
       "    <tr>\n",
       "      <th>Central African Republic</th>\n",
       "      <td>0.173414</td>\n",
       "      <td>0.026728</td>\n",
       "      <td>0.000000</td>\n",
       "      <td>0.000000</td>\n",
       "      <td>0.422367</td>\n",
       "      <td>0.444905</td>\n",
       "      <td>0.053013</td>\n",
       "      <td>2020</td>\n",
       "    </tr>\n",
       "    <tr>\n",
       "      <th>Rwanda</th>\n",
       "      <td>0.142203</td>\n",
       "      <td>0.223367</td>\n",
       "      <td>0.337870</td>\n",
       "      <td>0.503055</td>\n",
       "      <td>0.871360</td>\n",
       "      <td>0.413653</td>\n",
       "      <td>0.910684</td>\n",
       "      <td>2020</td>\n",
       "    </tr>\n",
       "    <tr>\n",
       "      <th>Zimbabwe</th>\n",
       "      <td>0.139704</td>\n",
       "      <td>0.276938</td>\n",
       "      <td>0.677085</td>\n",
       "      <td>0.329612</td>\n",
       "      <td>0.544383</td>\n",
       "      <td>0.265612</td>\n",
       "      <td>0.151790</td>\n",
       "      <td>2020</td>\n",
       "    </tr>\n",
       "    <tr>\n",
       "      <th>South Sudan</th>\n",
       "      <td>0.047636</td>\n",
       "      <td>0.188122</td>\n",
       "      <td>0.357515</td>\n",
       "      <td>0.183518</td>\n",
       "      <td>0.094637</td>\n",
       "      <td>0.368427</td>\n",
       "      <td>0.208486</td>\n",
       "      <td>2020</td>\n",
       "    </tr>\n",
       "    <tr>\n",
       "      <th>Afghanistan</th>\n",
       "      <td>0.000000</td>\n",
       "      <td>0.195686</td>\n",
       "      <td>0.230319</td>\n",
       "      <td>0.233827</td>\n",
       "      <td>0.000000</td>\n",
       "      <td>0.237331</td>\n",
       "      <td>0.002299</td>\n",
       "      <td>2020</td>\n",
       "    </tr>\n",
       "  </tbody>\n",
       "</table>\n",
       "</div>"
      ],
      "text/plain": [
       "                          Happiness       GDP    Family    Health   Freedom  \\\n",
       "Country                                                                       \n",
       "Central African Republic   0.173414  0.026728  0.000000  0.000000  0.422367   \n",
       "Rwanda                     0.142203  0.223367  0.337870  0.503055  0.871360   \n",
       "Zimbabwe                   0.139704  0.276938  0.677085  0.329612  0.544383   \n",
       "South Sudan                0.047636  0.188122  0.357515  0.183518  0.094637   \n",
       "Afghanistan                0.000000  0.195686  0.230319  0.233827  0.000000   \n",
       "\n",
       "                          Generosity  Trust_gov  Year  \n",
       "Country                                                \n",
       "Central African Republic    0.444905   0.053013  2020  \n",
       "Rwanda                      0.413653   0.910684  2020  \n",
       "Zimbabwe                    0.265612   0.151790  2020  \n",
       "South Sudan                 0.368427   0.208486  2020  \n",
       "Afghanistan                 0.237331   0.002299  2020  "
      ]
     },
     "metadata": {},
     "output_type": "display_data"
    }
   ],
   "source": [
    "# Cool, our many dfs have been merged into the master df!\n",
    "display(df.head())\n",
    "display(df.tail())"
   ]
  },
  {
   "cell_type": "code",
   "execution_count": 770,
   "metadata": {},
   "outputs": [
    {
     "name": "stdout",
     "output_type": "stream",
     "text": [
      "\n"
     ]
    }
   ],
   "source": [
    "\"\"\"One big problem that needs to be acknowledged is the differences of naming\n",
    "conventions from year 'i' to year 'j'. If our data was perfect (which it is not,\n",
    "nor will data every be perfect in the real world) then all countries would have\n",
    "the same names in each dataset, and therefore each country name would be counted\n",
    "for 6 times.\n",
    "\"\"\""
   ]
  },
  {
   "cell_type": "code",
   "execution_count": 750,
   "metadata": {},
   "outputs": [],
   "source": [
    "def abnormal_country_counts(df):\n",
    "    \n",
    "    # First lets get all the country names\n",
    "    country_indexes = sorted(df.index.values)\n",
    "    country_dict = {}\n",
    "\n",
    "    # initialize dict to zero counts for each country\n",
    "    for country in np.unique(country_indexes):\n",
    "        country_dict[country] = 0\n",
    "\n",
    "    # increment country count for all countries in df\n",
    "    for country in country_indexes:\n",
    "        country_dict[country] += 1\n",
    "\n",
    "    # if the count is not equal to 6, further examination is needed\n",
    "    for country in country_dict:\n",
    "        if country_dict[country] != 6:\n",
    "            print(country, country_dict[country])"
   ]
  },
  {
   "cell_type": "code",
   "execution_count": 751,
   "metadata": {},
   "outputs": [
    {
     "name": "stdout",
     "output_type": "stream",
     "text": [
      "Angola 4\n",
      "Belize 3\n",
      "Bhutan 5\n",
      "Central African Republic 5\n",
      "Comoros 4\n",
      "Djibouti 1\n",
      "Gambia 2\n",
      "Hong Kong 4\n",
      "Hong Kong S.A.R. of China 1\n",
      "Hong Kong S.A.R., China 1\n",
      "Laos 5\n",
      "Lesotho 5\n",
      "Macedonia 5\n",
      "Maldives 1\n",
      "Mozambique 5\n",
      "Namibia 5\n",
      "North Cyprus 4\n",
      "North Macedonia 1\n",
      "Northern Cyprus 2\n",
      "Oman 1\n",
      "Puerto Rico 1\n",
      "Qatar 5\n",
      "Somalia 4\n",
      "Somaliland Region 1\n",
      "Somaliland region 1\n",
      "South Sudan 5\n",
      "Sudan 4\n",
      "Suriname 2\n",
      "Swaziland 3\n",
      "Syria 5\n",
      "Taiwan 4\n",
      "Taiwan Province of China 2\n",
      "Trinidad & Tobago 2\n",
      "Trinidad and Tobago 4\n"
     ]
    }
   ],
   "source": [
    "# lets see which countries are missmatched/ undercounted\n",
    "abnormal_country_counts(df)"
   ]
  },
  {
   "cell_type": "code",
   "execution_count": 752,
   "metadata": {},
   "outputs": [],
   "source": [
    "# as it turns out, some countries are misnamed from year to year\n",
    "# the following lines were hand picked to fulfill this desired name match\n",
    "df.rename(index={\"Hong Kong S.A.R. of China\" : \"Hong Kong\"}, inplace=True)\n",
    "df.rename(index={\"Hong Kong S.A.R., China\" : \"Hong Kong\"}, inplace=True)\n",
    "df.rename(index={\"Northern Cyprus\" : \"North Cyprus\"}, inplace=True)\n",
    "df.rename(index={\"Macedonia\" : \"North Macedonia\"}, inplace=True)\n",
    "df.rename(index={\"Taiwan Province of China\" : \"Taiwan\"}, inplace=True)\n",
    "df.rename(index={\"Trinidad & Tobago\" : \"Trinidad and Tobago\"}, inplace=True)\n",
    "df.rename(index={'Somaliland region':'Somaliland Region'},inplace=True)"
   ]
  },
  {
   "cell_type": "code",
   "execution_count": 753,
   "metadata": {},
   "outputs": [
    {
     "name": "stdout",
     "output_type": "stream",
     "text": [
      "Angola 4\n",
      "Belize 3\n",
      "Bhutan 5\n",
      "Central African Republic 5\n",
      "Comoros 4\n",
      "Djibouti 1\n",
      "Gambia 2\n",
      "Laos 5\n",
      "Lesotho 5\n",
      "Maldives 1\n",
      "Mozambique 5\n",
      "Namibia 5\n",
      "Oman 1\n",
      "Puerto Rico 1\n",
      "Qatar 5\n",
      "Somalia 4\n",
      "Somaliland Region 2\n",
      "South Sudan 5\n",
      "Sudan 4\n",
      "Suriname 2\n",
      "Swaziland 3\n",
      "Syria 5\n"
     ]
    }
   ],
   "source": [
    "# Any country not included in the above block simply seems to be underrepresented\n",
    "# Lets see the remaining countries and their associated count\n",
    "abnormal_country_counts(df)"
   ]
  },
  {
   "cell_type": "code",
   "execution_count": 771,
   "metadata": {},
   "outputs": [
    {
     "name": "stdout",
     "output_type": "stream",
     "text": [
      "\n"
     ]
    }
   ],
   "source": [
    "\"\"\"If we want to model our data, there cannot be any NAN values. It is very\n",
    "common for data to either come with NANs or to have NANs produced during\n",
    "your data exploration/manipulation.\n",
    "\"\"\""
   ]
  },
  {
   "cell_type": "code",
   "execution_count": 755,
   "metadata": {},
   "outputs": [
    {
     "data": {
      "text/plain": [
       "(array([489], dtype=int64), array([6], dtype=int64))"
      ]
     },
     "execution_count": 755,
     "metadata": {},
     "output_type": "execute_result"
    }
   ],
   "source": [
    "# if there are NANs, where are they?\n",
    "np.where(np.isnan(df.values))"
   ]
  },
  {
   "cell_type": "code",
   "execution_count": 756,
   "metadata": {},
   "outputs": [
    {
     "data": {
      "text/html": [
       "<div>\n",
       "<style scoped>\n",
       "    .dataframe tbody tr th:only-of-type {\n",
       "        vertical-align: middle;\n",
       "    }\n",
       "\n",
       "    .dataframe tbody tr th {\n",
       "        vertical-align: top;\n",
       "    }\n",
       "\n",
       "    .dataframe thead th {\n",
       "        text-align: right;\n",
       "    }\n",
       "</style>\n",
       "<table border=\"1\" class=\"dataframe\">\n",
       "  <thead>\n",
       "    <tr style=\"text-align: right;\">\n",
       "      <th></th>\n",
       "      <th>Trust_gov</th>\n",
       "      <th>Year</th>\n",
       "    </tr>\n",
       "    <tr>\n",
       "      <th>Country</th>\n",
       "      <th></th>\n",
       "      <th></th>\n",
       "    </tr>\n",
       "  </thead>\n",
       "  <tbody>\n",
       "    <tr>\n",
       "      <th>United Arab Emirates</th>\n",
       "      <td>0.332060</td>\n",
       "      <td>2015</td>\n",
       "    </tr>\n",
       "    <tr>\n",
       "      <th>United Arab Emirates</th>\n",
       "      <td>0.324395</td>\n",
       "      <td>2016</td>\n",
       "    </tr>\n",
       "    <tr>\n",
       "      <th>United Arab Emirates</th>\n",
       "      <td>0.698867</td>\n",
       "      <td>2017</td>\n",
       "    </tr>\n",
       "    <tr>\n",
       "      <th>United Arab Emirates</th>\n",
       "      <td>NaN</td>\n",
       "      <td>2018</td>\n",
       "    </tr>\n",
       "    <tr>\n",
       "      <th>United Arab Emirates</th>\n",
       "      <td>0.401766</td>\n",
       "      <td>2019</td>\n",
       "    </tr>\n",
       "    <tr>\n",
       "      <th>United Arab Emirates</th>\n",
       "      <td>0.413033</td>\n",
       "      <td>2020</td>\n",
       "    </tr>\n",
       "  </tbody>\n",
       "</table>\n",
       "</div>"
      ],
      "text/plain": [
       "                      Trust_gov  Year\n",
       "Country                              \n",
       "United Arab Emirates   0.332060  2015\n",
       "United Arab Emirates   0.324395  2016\n",
       "United Arab Emirates   0.698867  2017\n",
       "United Arab Emirates        NaN  2018\n",
       "United Arab Emirates   0.401766  2019\n",
       "United Arab Emirates   0.413033  2020"
      ]
     },
     "execution_count": 756,
     "metadata": {},
     "output_type": "execute_result"
    }
   ],
   "source": [
    "# Turns out we have one NAN within our UAE data\n",
    "df.loc[\"United Arab Emirates\"][[\"Trust_gov\", \"Year\"]]"
   ]
  },
  {
   "cell_type": "code",
   "execution_count": 757,
   "metadata": {},
   "outputs": [],
   "source": [
    "# This looks like a lot of confusing code but what we are doing is actually very simple:\n",
    "# Lets take the average of \"Trust_gov\" for all years (not NAN values) collected from\n",
    "# UAE only. \n",
    "# Alternatively, we could drop the NAN row, but I chose this approach because it seemed \n",
    "# like an opportunity to do some cool pandas manipulation.\n",
    "UAE_trust_values = df.loc[\"United Arab Emirates\"][\"Trust_gov\"].values\n",
    "mean_UAE_trust_value = np.mean(UAE_trust_values[np.where(1 - np.isnan(UAE_trust_values))])\n",
    "df.iloc[np.where(np.isnan(df))] = mean_UAE_trust_value"
   ]
  },
  {
   "cell_type": "code",
   "execution_count": 758,
   "metadata": {},
   "outputs": [
    {
     "data": {
      "text/html": [
       "<div>\n",
       "<style scoped>\n",
       "    .dataframe tbody tr th:only-of-type {\n",
       "        vertical-align: middle;\n",
       "    }\n",
       "\n",
       "    .dataframe tbody tr th {\n",
       "        vertical-align: top;\n",
       "    }\n",
       "\n",
       "    .dataframe thead th {\n",
       "        text-align: right;\n",
       "    }\n",
       "</style>\n",
       "<table border=\"1\" class=\"dataframe\">\n",
       "  <thead>\n",
       "    <tr style=\"text-align: right;\">\n",
       "      <th></th>\n",
       "      <th>Trust_gov</th>\n",
       "      <th>Year</th>\n",
       "    </tr>\n",
       "    <tr>\n",
       "      <th>Country</th>\n",
       "      <th></th>\n",
       "      <th></th>\n",
       "    </tr>\n",
       "  </thead>\n",
       "  <tbody>\n",
       "    <tr>\n",
       "      <th>United Arab Emirates</th>\n",
       "      <td>0.332060</td>\n",
       "      <td>2015</td>\n",
       "    </tr>\n",
       "    <tr>\n",
       "      <th>United Arab Emirates</th>\n",
       "      <td>0.324395</td>\n",
       "      <td>2016</td>\n",
       "    </tr>\n",
       "    <tr>\n",
       "      <th>United Arab Emirates</th>\n",
       "      <td>0.698867</td>\n",
       "      <td>2017</td>\n",
       "    </tr>\n",
       "    <tr>\n",
       "      <th>United Arab Emirates</th>\n",
       "      <td>0.434024</td>\n",
       "      <td>2018</td>\n",
       "    </tr>\n",
       "    <tr>\n",
       "      <th>United Arab Emirates</th>\n",
       "      <td>0.401766</td>\n",
       "      <td>2019</td>\n",
       "    </tr>\n",
       "    <tr>\n",
       "      <th>United Arab Emirates</th>\n",
       "      <td>0.413033</td>\n",
       "      <td>2020</td>\n",
       "    </tr>\n",
       "  </tbody>\n",
       "</table>\n",
       "</div>"
      ],
      "text/plain": [
       "                      Trust_gov  Year\n",
       "Country                              \n",
       "United Arab Emirates   0.332060  2015\n",
       "United Arab Emirates   0.324395  2016\n",
       "United Arab Emirates   0.698867  2017\n",
       "United Arab Emirates   0.434024  2018\n",
       "United Arab Emirates   0.401766  2019\n",
       "United Arab Emirates   0.413033  2020"
      ]
     },
     "execution_count": 758,
     "metadata": {},
     "output_type": "execute_result"
    }
   ],
   "source": [
    "# goodbye NANs\n",
    "df.loc[\"United Arab Emirates\"][[\"Trust_gov\", \"Year\"]]"
   ]
  },
  {
   "cell_type": "markdown",
   "metadata": {},
   "source": [
    "# Export Data\n",
    "Data is the new oil (they say)! Let's save our new, clean data."
   ]
  },
  {
   "cell_type": "code",
   "execution_count": 759,
   "metadata": {},
   "outputs": [
    {
     "data": {
      "text/html": [
       "<div>\n",
       "<style scoped>\n",
       "    .dataframe tbody tr th:only-of-type {\n",
       "        vertical-align: middle;\n",
       "    }\n",
       "\n",
       "    .dataframe tbody tr th {\n",
       "        vertical-align: top;\n",
       "    }\n",
       "\n",
       "    .dataframe thead th {\n",
       "        text-align: right;\n",
       "    }\n",
       "</style>\n",
       "<table border=\"1\" class=\"dataframe\">\n",
       "  <thead>\n",
       "    <tr style=\"text-align: right;\">\n",
       "      <th></th>\n",
       "      <th>Happiness</th>\n",
       "      <th>GDP</th>\n",
       "      <th>Family</th>\n",
       "      <th>Health</th>\n",
       "      <th>Freedom</th>\n",
       "      <th>Generosity</th>\n",
       "      <th>Trust_gov</th>\n",
       "      <th>Year</th>\n",
       "    </tr>\n",
       "    <tr>\n",
       "      <th>Country</th>\n",
       "      <th></th>\n",
       "      <th></th>\n",
       "      <th></th>\n",
       "      <th></th>\n",
       "      <th></th>\n",
       "      <th></th>\n",
       "      <th></th>\n",
       "      <th></th>\n",
       "    </tr>\n",
       "  </thead>\n",
       "  <tbody>\n",
       "    <tr>\n",
       "      <th>Switzerland</th>\n",
       "      <td>1.000000</td>\n",
       "      <td>0.826132</td>\n",
       "      <td>0.962403</td>\n",
       "      <td>0.918244</td>\n",
       "      <td>0.993789</td>\n",
       "      <td>0.760595</td>\n",
       "      <td>0.372895</td>\n",
       "      <td>2015</td>\n",
       "    </tr>\n",
       "    <tr>\n",
       "      <th>Iceland</th>\n",
       "      <td>0.994524</td>\n",
       "      <td>0.770412</td>\n",
       "      <td>1.000000</td>\n",
       "      <td>0.924496</td>\n",
       "      <td>0.938841</td>\n",
       "      <td>0.256292</td>\n",
       "      <td>0.548198</td>\n",
       "      <td>2015</td>\n",
       "    </tr>\n",
       "    <tr>\n",
       "      <th>Denmark</th>\n",
       "      <td>0.987363</td>\n",
       "      <td>0.784113</td>\n",
       "      <td>0.970297</td>\n",
       "      <td>0.853099</td>\n",
       "      <td>0.969615</td>\n",
       "      <td>0.876175</td>\n",
       "      <td>0.428947</td>\n",
       "      <td>2015</td>\n",
       "    </tr>\n",
       "    <tr>\n",
       "      <th>Norway</th>\n",
       "      <td>0.986310</td>\n",
       "      <td>0.863099</td>\n",
       "      <td>0.949167</td>\n",
       "      <td>0.863409</td>\n",
       "      <td>1.000000</td>\n",
       "      <td>0.661394</td>\n",
       "      <td>0.435983</td>\n",
       "      <td>2015</td>\n",
       "    </tr>\n",
       "    <tr>\n",
       "      <th>Canada</th>\n",
       "      <td>0.966302</td>\n",
       "      <td>0.784592</td>\n",
       "      <td>0.943219</td>\n",
       "      <td>0.883326</td>\n",
       "      <td>0.945112</td>\n",
       "      <td>0.597144</td>\n",
       "      <td>0.575602</td>\n",
       "      <td>2015</td>\n",
       "    </tr>\n",
       "  </tbody>\n",
       "</table>\n",
       "</div>"
      ],
      "text/plain": [
       "             Happiness       GDP    Family    Health   Freedom  Generosity  \\\n",
       "Country                                                                      \n",
       "Switzerland   1.000000  0.826132  0.962403  0.918244  0.993789    0.760595   \n",
       "Iceland       0.994524  0.770412  1.000000  0.924496  0.938841    0.256292   \n",
       "Denmark       0.987363  0.784113  0.970297  0.853099  0.969615    0.876175   \n",
       "Norway        0.986310  0.863099  0.949167  0.863409  1.000000    0.661394   \n",
       "Canada        0.966302  0.784592  0.943219  0.883326  0.945112    0.597144   \n",
       "\n",
       "             Trust_gov  Year  \n",
       "Country                       \n",
       "Switzerland   0.372895  2015  \n",
       "Iceland       0.548198  2015  \n",
       "Denmark       0.428947  2015  \n",
       "Norway        0.435983  2015  \n",
       "Canada        0.575602  2015  "
      ]
     },
     "execution_count": 759,
     "metadata": {},
     "output_type": "execute_result"
    }
   ],
   "source": [
    "# here is what our data looks like now\n",
    "df.head()"
   ]
  },
  {
   "cell_type": "code",
   "execution_count": 760,
   "metadata": {},
   "outputs": [],
   "source": [
    "# saved as a .csv\n",
    "df.to_csv('C:/Users/voyno/OneDrive/Desktop/Python_Projects/World_happiness/Happiness_docs/world_happiness_report.csv')"
   ]
  },
  {
   "cell_type": "code",
   "execution_count": 761,
   "metadata": {},
   "outputs": [
    {
     "data": {
      "text/html": [
       "<div>\n",
       "<style scoped>\n",
       "    .dataframe tbody tr th:only-of-type {\n",
       "        vertical-align: middle;\n",
       "    }\n",
       "\n",
       "    .dataframe tbody tr th {\n",
       "        vertical-align: top;\n",
       "    }\n",
       "\n",
       "    .dataframe thead th {\n",
       "        text-align: right;\n",
       "    }\n",
       "</style>\n",
       "<table border=\"1\" class=\"dataframe\">\n",
       "  <thead>\n",
       "    <tr style=\"text-align: right;\">\n",
       "      <th></th>\n",
       "      <th>Happiness</th>\n",
       "      <th>GDP</th>\n",
       "      <th>Family</th>\n",
       "      <th>Health</th>\n",
       "      <th>Freedom</th>\n",
       "      <th>Generosity</th>\n",
       "      <th>Trust_gov</th>\n",
       "      <th>Year</th>\n",
       "    </tr>\n",
       "    <tr>\n",
       "      <th>Country</th>\n",
       "      <th></th>\n",
       "      <th></th>\n",
       "      <th></th>\n",
       "      <th></th>\n",
       "      <th></th>\n",
       "      <th></th>\n",
       "      <th></th>\n",
       "      <th></th>\n",
       "    </tr>\n",
       "  </thead>\n",
       "  <tbody>\n",
       "    <tr>\n",
       "      <th>Switzerland</th>\n",
       "      <td>1.000000</td>\n",
       "      <td>0.826132</td>\n",
       "      <td>0.962403</td>\n",
       "      <td>0.918244</td>\n",
       "      <td>0.993789</td>\n",
       "      <td>0.760595</td>\n",
       "      <td>0.372895</td>\n",
       "      <td>2015</td>\n",
       "    </tr>\n",
       "    <tr>\n",
       "      <th>Iceland</th>\n",
       "      <td>0.994524</td>\n",
       "      <td>0.770412</td>\n",
       "      <td>1.000000</td>\n",
       "      <td>0.924496</td>\n",
       "      <td>0.938841</td>\n",
       "      <td>0.256292</td>\n",
       "      <td>0.548198</td>\n",
       "      <td>2015</td>\n",
       "    </tr>\n",
       "    <tr>\n",
       "      <th>Denmark</th>\n",
       "      <td>0.987363</td>\n",
       "      <td>0.784113</td>\n",
       "      <td>0.970297</td>\n",
       "      <td>0.853099</td>\n",
       "      <td>0.969615</td>\n",
       "      <td>0.876175</td>\n",
       "      <td>0.428947</td>\n",
       "      <td>2015</td>\n",
       "    </tr>\n",
       "    <tr>\n",
       "      <th>Norway</th>\n",
       "      <td>0.986310</td>\n",
       "      <td>0.863099</td>\n",
       "      <td>0.949167</td>\n",
       "      <td>0.863409</td>\n",
       "      <td>1.000000</td>\n",
       "      <td>0.661394</td>\n",
       "      <td>0.435983</td>\n",
       "      <td>2015</td>\n",
       "    </tr>\n",
       "    <tr>\n",
       "      <th>Canada</th>\n",
       "      <td>0.966302</td>\n",
       "      <td>0.784592</td>\n",
       "      <td>0.943219</td>\n",
       "      <td>0.883326</td>\n",
       "      <td>0.945112</td>\n",
       "      <td>0.597144</td>\n",
       "      <td>0.575602</td>\n",
       "      <td>2015</td>\n",
       "    </tr>\n",
       "  </tbody>\n",
       "</table>\n",
       "</div>"
      ],
      "text/plain": [
       "             Happiness       GDP    Family    Health   Freedom  Generosity  \\\n",
       "Country                                                                      \n",
       "Switzerland   1.000000  0.826132  0.962403  0.918244  0.993789    0.760595   \n",
       "Iceland       0.994524  0.770412  1.000000  0.924496  0.938841    0.256292   \n",
       "Denmark       0.987363  0.784113  0.970297  0.853099  0.969615    0.876175   \n",
       "Norway        0.986310  0.863099  0.949167  0.863409  1.000000    0.661394   \n",
       "Canada        0.966302  0.784592  0.943219  0.883326  0.945112    0.597144   \n",
       "\n",
       "             Trust_gov  Year  \n",
       "Country                       \n",
       "Switzerland   0.372895  2015  \n",
       "Iceland       0.548198  2015  \n",
       "Denmark       0.428947  2015  \n",
       "Norway        0.435983  2015  \n",
       "Canada        0.575602  2015  "
      ]
     },
     "execution_count": 761,
     "metadata": {},
     "output_type": "execute_result"
    }
   ],
   "source": [
    "# and if we read it back in, it seems that we have no issues\n",
    "pd.read_csv(R'C:/Users/voyno/OneDrive/Desktop/Python_Projects/World_happiness/Happiness_docs/world_happiness_report.csv', index_col=\"Country\").head()"
   ]
  },
  {
   "cell_type": "markdown",
   "metadata": {},
   "source": [
    "# Regression\n",
    "It is time to model our data. In this notebook, I want to focus on interpreting our data. Rather than doing the classic train-test split, lets do a simple linear regression model. The goal here is to analyze the relationship between our dependent (Happiness) and independent (features) variables. "
   ]
  },
  {
   "cell_type": "code",
   "execution_count": 762,
   "metadata": {},
   "outputs": [],
   "source": [
    "# lets copy our df and drop year\n",
    "df_copy = np.copy(df.values)\n",
    "df.drop([\"Year\"], axis=1, inplace=True)"
   ]
  },
  {
   "cell_type": "code",
   "execution_count": 763,
   "metadata": {},
   "outputs": [
    {
     "data": {
      "image/png": "[encoded data removed]",
      "text/plain": [
       "<Figure size 432x288 with 2 Axes>"
      ]
     },
     "metadata": {
      "needs_background": "light"
     },
     "output_type": "display_data"
    }
   ],
   "source": [
    "# Here is the correlation matrix amoung our featurespace\n",
    "# You can interpret this at the \"similarity of movement\" that two features \n",
    "# exress if plotted or paired together\n",
    "sns.heatmap(df.corr(), cmap=\"coolwarm\")\n",
    "plt.plot();"
   ]
  },
  {
   "cell_type": "code",
   "execution_count": 764,
   "metadata": {},
   "outputs": [],
   "source": [
    "# Now lets seperate our model inputs vs target values\n",
    "dependent_var = df[\"Happiness\"]\n",
    "independent_var = df.drop([\"Happiness\"], axis=1)"
   ]
  },
  {
   "cell_type": "code",
   "execution_count": 765,
   "metadata": {},
   "outputs": [
    {
     "data": {
      "text/plain": [
       "LinearRegression(copy_X=True, fit_intercept=True, n_jobs=None,\n",
       "         normalize=False)"
      ]
     },
     "execution_count": 765,
     "metadata": {},
     "output_type": "execute_result"
    }
   ],
   "source": [
    "# first we can train a scikit learn linear regression model\n",
    "sklearn_model = linear_model.LinearRegression()\n",
    "sklearn_model.fit(independent_var, dependent_var)"
   ]
  },
  {
   "cell_type": "code",
   "execution_count": 766,
   "metadata": {},
   "outputs": [
    {
     "name": "stderr",
     "output_type": "stream",
     "text": [
      "C:\\ProgramData\\Anaconda3\\lib\\site-packages\\numpy\\core\\fromnumeric.py:2389: FutureWarning: Method .ptp is deprecated and will be removed in a future version. Use numpy.ptp instead.\n",
      "  return ptp(axis=axis, out=out, **kwargs)\n"
     ]
    }
   ],
   "source": [
    "# then we can train a statsmodel ordinary leastsquares model\n",
    "ind_var_const = sm.add_constant(independent_var)\n",
    "stats_model_obj = sm.OLS(dependent_var, ind_var_const)\n",
    "stats_model = stats_model_obj.fit()"
   ]
  },
  {
   "cell_type": "code",
   "execution_count": 767,
   "metadata": {},
   "outputs": [
    {
     "name": "stdout",
     "output_type": "stream",
     "text": [
      "           sklearn   statsmodels\n",
      "const     -0.181335 -0.181335\n",
      "GDP        0.287554  0.287554\n",
      "Family     0.351729  0.351729\n",
      "Health     0.245950  0.245950\n",
      "Freedom    0.196730  0.196730\n",
      "Generosity 0.069147  0.069147\n",
      "Trust_gov  0.085106  0.085106\n"
     ]
    }
   ],
   "source": [
    "# Lets see how the resulting regression coefficients compare from sklearn's\n",
    "# LinearRegression to stats models OLS. In theory these two models should\n",
    "# produce identical results\n",
    "sklearn_coef = sklearn_model.coef_\n",
    "print(format(\"\", '10'),\"sklearn\", format(\"\", '1'), \"statsmodels\")\n",
    "print(format(\"const\",'9'), format(sklearn_model.intercept_,'.6f'), format(stats_model.params[0], \".6f\"))\n",
    "for i in range(len(sklearn_coef)):\n",
    "    print(format(independent_var.columns[i],'10'), format(sklearn_coef[i], '.6f'), \"\" ,\n",
    "          format(stats_model.params[i + 1], '.6f'))"
   ]
  },
  {
   "cell_type": "code",
   "execution_count": 768,
   "metadata": {
    "scrolled": false
   },
   "outputs": [
    {
     "data": {
      "text/html": [
       "<table class=\"simpletable\">\n",
       "<caption>OLS Regression Results</caption>\n",
       "<tr>\n",
       "  <th>Dep. Variable:</th>        <td>Happiness</td>    <th>  R-squared:         </th> <td>   0.771</td> \n",
       "</tr>\n",
       "<tr>\n",
       "  <th>Model:</th>                   <td>OLS</td>       <th>  Adj. R-squared:    </th> <td>   0.770</td> \n",
       "</tr>\n",
       "<tr>\n",
       "  <th>Method:</th>             <td>Least Squares</td>  <th>  F-statistic:       </th> <td>   522.2</td> \n",
       "</tr>\n",
       "<tr>\n",
       "  <th>Date:</th>             <td>Fri, 07 Aug 2020</td> <th>  Prob (F-statistic):</th> <td>2.22e-293</td>\n",
       "</tr>\n",
       "<tr>\n",
       "  <th>Time:</th>                 <td>14:21:14</td>     <th>  Log-Likelihood:    </th> <td>  726.11</td> \n",
       "</tr>\n",
       "<tr>\n",
       "  <th>No. Observations:</th>      <td>   935</td>      <th>  AIC:               </th> <td>  -1438.</td> \n",
       "</tr>\n",
       "<tr>\n",
       "  <th>Df Residuals:</th>          <td>   928</td>      <th>  BIC:               </th> <td>  -1404.</td> \n",
       "</tr>\n",
       "<tr>\n",
       "  <th>Df Model:</th>              <td>     6</td>      <th>                     </th>     <td> </td>    \n",
       "</tr>\n",
       "<tr>\n",
       "  <th>Covariance Type:</th>      <td>nonrobust</td>    <th>                     </th>     <td> </td>    \n",
       "</tr>\n",
       "</table>\n",
       "<table class=\"simpletable\">\n",
       "<tr>\n",
       "       <td></td>         <th>coef</th>     <th>std err</th>      <th>t</th>      <th>P>|t|</th>  <th>[0.025</th>    <th>0.975]</th>  \n",
       "</tr>\n",
       "<tr>\n",
       "  <th>const</th>      <td>   -0.1813</td> <td>    0.016</td> <td>  -11.687</td> <td> 0.000</td> <td>   -0.212</td> <td>   -0.151</td>\n",
       "</tr>\n",
       "<tr>\n",
       "  <th>GDP</th>        <td>    0.2876</td> <td>    0.030</td> <td>    9.611</td> <td> 0.000</td> <td>    0.229</td> <td>    0.346</td>\n",
       "</tr>\n",
       "<tr>\n",
       "  <th>Family</th>     <td>    0.3517</td> <td>    0.027</td> <td>   12.911</td> <td> 0.000</td> <td>    0.298</td> <td>    0.405</td>\n",
       "</tr>\n",
       "<tr>\n",
       "  <th>Health</th>     <td>    0.2460</td> <td>    0.028</td> <td>    8.840</td> <td> 0.000</td> <td>    0.191</td> <td>    0.301</td>\n",
       "</tr>\n",
       "<tr>\n",
       "  <th>Freedom</th>    <td>    0.1967</td> <td>    0.021</td> <td>    9.525</td> <td> 0.000</td> <td>    0.156</td> <td>    0.237</td>\n",
       "</tr>\n",
       "<tr>\n",
       "  <th>Generosity</th> <td>    0.0691</td> <td>    0.021</td> <td>    3.255</td> <td> 0.001</td> <td>    0.027</td> <td>    0.111</td>\n",
       "</tr>\n",
       "<tr>\n",
       "  <th>Trust_gov</th>  <td>    0.0851</td> <td>    0.021</td> <td>    4.087</td> <td> 0.000</td> <td>    0.044</td> <td>    0.126</td>\n",
       "</tr>\n",
       "</table>\n",
       "<table class=\"simpletable\">\n",
       "<tr>\n",
       "  <th>Omnibus:</th>       <td>19.113</td> <th>  Durbin-Watson:     </th> <td>   1.527</td>\n",
       "</tr>\n",
       "<tr>\n",
       "  <th>Prob(Omnibus):</th> <td> 0.000</td> <th>  Jarque-Bera (JB):  </th> <td>  21.237</td>\n",
       "</tr>\n",
       "<tr>\n",
       "  <th>Skew:</th>          <td>-0.294</td> <th>  Prob(JB):          </th> <td>2.45e-05</td>\n",
       "</tr>\n",
       "<tr>\n",
       "  <th>Kurtosis:</th>      <td> 3.447</td> <th>  Cond. No.          </th> <td>    17.5</td>\n",
       "</tr>\n",
       "</table><br/><br/>Warnings:<br/>[1] Standard Errors assume that the covariance matrix of the errors is correctly specified."
      ],
      "text/plain": [
       "<class 'statsmodels.iolib.summary.Summary'>\n",
       "\"\"\"\n",
       "                            OLS Regression Results                            \n",
       "==============================================================================\n",
       "Dep. Variable:              Happiness   R-squared:                       0.771\n",
       "Model:                            OLS   Adj. R-squared:                  0.770\n",
       "Method:                 Least Squares   F-statistic:                     522.2\n",
       "Date:                Fri, 07 Aug 2020   Prob (F-statistic):          2.22e-293\n",
       "Time:                        14:21:14   Log-Likelihood:                 726.11\n",
       "No. Observations:                 935   AIC:                            -1438.\n",
       "Df Residuals:                     928   BIC:                            -1404.\n",
       "Df Model:                           6                                         \n",
       "Covariance Type:            nonrobust                                         \n",
       "==============================================================================\n",
       "                 coef    std err          t      P>|t|      [0.025      0.975]\n",
       "------------------------------------------------------------------------------\n",
       "const         -0.1813      0.016    -11.687      0.000      -0.212      -0.151\n",
       "GDP            0.2876      0.030      9.611      0.000       0.229       0.346\n",
       "Family         0.3517      0.027     12.911      0.000       0.298       0.405\n",
       "Health         0.2460      0.028      8.840      0.000       0.191       0.301\n",
       "Freedom        0.1967      0.021      9.525      0.000       0.156       0.237\n",
       "Generosity     0.0691      0.021      3.255      0.001       0.027       0.111\n",
       "Trust_gov      0.0851      0.021      4.087      0.000       0.044       0.126\n",
       "==============================================================================\n",
       "Omnibus:                       19.113   Durbin-Watson:                   1.527\n",
       "Prob(Omnibus):                  0.000   Jarque-Bera (JB):               21.237\n",
       "Skew:                          -0.294   Prob(JB):                     2.45e-05\n",
       "Kurtosis:                       3.447   Cond. No.                         17.5\n",
       "==============================================================================\n",
       "\n",
       "Warnings:\n",
       "[1] Standard Errors assume that the covariance matrix of the errors is correctly specified.\n",
       "\"\"\""
      ]
     },
     "execution_count": 768,
     "metadata": {},
     "output_type": "execute_result"
    }
   ],
   "source": [
    "# The coolest feature of Statsmodels.OLS is it's summary statistics\n",
    "# As shown below, in a one word command, we can access key analytics\n",
    "# of regression like R^2, and p-values.\n",
    "stats_model.summary()"
   ]
  },
  {
   "cell_type": "code",
   "execution_count": 831,
   "metadata": {},
   "outputs": [
    {
     "name": "stdout",
     "output_type": "stream",
     "text": [
      "i Feature    Weight\n",
      "--------------------\n",
      "1 GDP        0.3517\n",
      "2 Family     0.2876\n",
      "3 Health     0.2460\n",
      "4 Freedom    0.1967\n",
      "5 Generosity 0.0851\n",
      "6 Trust_gov  0.0691\n"
     ]
    }
   ],
   "source": [
    "# Woah! all of our features are statistically significant.\n",
    "# Lets rank our features in order of importance\n",
    "\n",
    "print(\"i\", format(\"Feature\", '10'), \"Weight\")\n",
    "print(\"-\" * 20)\n",
    "\n",
    "sorted_coefs = np.sort(np.array(stats_model.params))\n",
    "for i in range(len(stats_model.params)):\n",
    "    if i > 0:\n",
    "        ith_sorted_val = sorted_coefs[-i]\n",
    "        position = np.where(stats_model.params == ith_sorted_val)[0][0]\n",
    "        print(i, format(independent_var.columns[i - 1], '10'), format(ith_sorted_val, '.4f'))"
   ]
  },
  {
   "cell_type": "code",
   "execution_count": 832,
   "metadata": {},
   "outputs": [],
   "source": [
    "# So, GDP and Family are the biggest indicators of happiness while\n",
    "# Generosity and Trust of Government are the smallest indeicators of\n",
    "# happiness (on a country basis)\n",
    "\n",
    "# We will be adding more features, doing more modeling in notebooks to\n",
    "# come. So either check them out if they are already posted, or stay tuned"
   ]
  },
  {
   "cell_type": "code",
   "execution_count": null,
   "metadata": {},
   "outputs": [],
   "source": []
  }
 ],
 "metadata": {
  "kernelspec": {
   "display_name": "Python 3",
   "language": "python",
   "name": "python3"
  },
  "language_info": {
   "codemirror_mode": {
    "name": "ipython",
    "version": 3
   },
   "file_extension": ".py",
   "mimetype": "text/x-python",
   "name": "python",
   "nbconvert_exporter": "python",
   "pygments_lexer": "ipython3",
   "version": "3.7.3"
  }
 },
 "nbformat": 4,
 "nbformat_minor": 2
}
